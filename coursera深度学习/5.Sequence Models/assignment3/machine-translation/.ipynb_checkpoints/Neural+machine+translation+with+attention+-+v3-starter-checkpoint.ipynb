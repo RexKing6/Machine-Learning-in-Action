{
 "cells": [
  {
   "cell_type": "markdown",
   "metadata": {},
   "source": [
    "# Neural Machine Translation\n",
    "\n",
    "Welcome to your first programming assignment for this week! \n",
    "\n",
    "You will build a Neural Machine Translation (NMT) model to translate human readable dates (\"25th of June, 2009\") into machine readable dates (\"2009-06-25\"). You will do this using an attention model, one of the most sophisticated sequence to sequence models. \n",
    "\n",
    "This notebook was produced together with NVIDIA's Deep Learning Institute. \n",
    "\n",
    "Let's load all the packages you will need for this assignment."
   ]
  },
  {
   "cell_type": "code",
   "execution_count": 3,
   "metadata": {},
   "outputs": [],
   "source": [
    "from keras.layers import Bidirectional, Concatenate, Permute, Dot, Input, LSTM, Multiply\n",
    "from keras.layers import RepeatVector, Dense, Activation, Lambda\n",
    "from keras.optimizers import Adam\n",
    "from keras.utils import to_categorical\n",
    "from keras.models import load_model, Model\n",
    "import keras.backend as K\n",
    "import numpy as np\n",
    "\n",
    "from faker import Faker\n",
    "import random\n",
    "from tqdm import tqdm\n",
    "from babel.dates import format_date\n",
    "from nmt_utils import *\n",
    "import matplotlib.pyplot as plt\n",
    "%matplotlib inline"
   ]
  },
  {
   "cell_type": "markdown",
   "metadata": {},
   "source": [
    "## 1 - Translating human readable dates into machine readable dates\n",
    "\n",
    "The model you will build here could be used to translate from one language to another, such as translating from English to Hindi. However, language translation requires massive datasets and usually takes days of training on GPUs. To give you a place to experiment with these models even without using massive datasets, we will instead use a simpler \"date translation\" task. \n",
    "\n",
    "The network will input a date written in a variety of possible formats (*e.g. \"the 29th of August 1958\", \"03/30/1968\", \"24 JUNE 1987\"*) and translate them into standardized, machine readable dates (*e.g. \"1958-08-29\", \"1968-03-30\", \"1987-06-24\"*). We will have the network learn to output dates in the common machine-readable format YYYY-MM-DD. \n",
    "\n",
    "\n",
    "\n",
    "<!-- \n",
    "Take a look at [nmt_utils.py](./nmt_utils.py) to see all the formatting. Count and figure out how the formats work, you will need this knowledge later. !--> "
   ]
  },
  {
   "cell_type": "markdown",
   "metadata": {},
   "source": [
    "### 1.1 - Dataset\n",
    "\n",
    "We will train the model on a dataset of 10000 human readable dates and their equivalent, standardized, machine readable dates. Let's run the following cells to load the dataset and print some examples. "
   ]
  },
  {
   "cell_type": "code",
   "execution_count": 4,
   "metadata": {},
   "outputs": [
    {
     "name": "stderr",
     "output_type": "stream",
     "text": [
      "100%|█████████████████████████████████████████████████████████████████████████| 10000/10000 [00:00<00:00, 12261.31it/s]\n"
     ]
    }
   ],
   "source": [
    "m = 10000\n",
    "dataset, human_vocab, machine_vocab, inv_machine_vocab = load_dataset(m)"
   ]
  },
  {
   "cell_type": "code",
   "execution_count": 5,
   "metadata": {},
   "outputs": [
    {
     "data": {
      "text/plain": [
       "[('9 may 1998', '1998-05-09'),\n",
       " ('10.09.70', '1970-09-10'),\n",
       " ('4/28/90', '1990-04-28'),\n",
       " ('thursday january 26 1995', '1995-01-26'),\n",
       " ('monday march 7 1983', '1983-03-07'),\n",
       " ('sunday may 22 1988', '1988-05-22'),\n",
       " ('tuesday july 8 2008', '2008-07-08'),\n",
       " ('08 sep 1999', '1999-09-08'),\n",
       " ('1 jan 1981', '1981-01-01'),\n",
       " ('monday may 22 1995', '1995-05-22')]"
      ]
     },
     "execution_count": 5,
     "metadata": {},
     "output_type": "execute_result"
    }
   ],
   "source": [
    "dataset[:10]"
   ]
  },
  {
   "cell_type": "markdown",
   "metadata": {},
   "source": [
    "You've loaded:\n",
    "- `dataset`: a list of tuples of (human readable date, machine readable date)\n",
    "- `human_vocab`: a python dictionary mapping all characters used in the human readable dates to an integer-valued index \n",
    "- `machine_vocab`: a python dictionary mapping all characters used in machine readable dates to an integer-valued index. These indices are not necessarily consistent with `human_vocab`. \n",
    "- `inv_machine_vocab`: the inverse dictionary of `machine_vocab`, mapping from indices back to characters. \n",
    "\n",
    "Let's preprocess the data and map the raw text data into the index values. We will also use Tx=30 (which we assume is the maximum length of the human readable date; if we get a longer input, we would have to truncate it) and Ty=10 (since \"YYYY-MM-DD\" is 10 characters long). "
   ]
  },
  {
   "cell_type": "code",
   "execution_count": 6,
   "metadata": {},
   "outputs": [
    {
     "name": "stdout",
     "output_type": "stream",
     "text": [
      "X.shape: (10000, 30)\n",
      "Y.shape: (10000, 10)\n",
      "Xoh.shape: (10000, 30, 37)\n",
      "Yoh.shape: (10000, 10, 11)\n"
     ]
    }
   ],
   "source": [
    "Tx = 30\n",
    "Ty = 10\n",
    "X, Y, Xoh, Yoh = preprocess_data(dataset, human_vocab, machine_vocab, Tx, Ty)\n",
    "\n",
    "print(\"X.shape:\", X.shape)\n",
    "print(\"Y.shape:\", Y.shape)\n",
    "print(\"Xoh.shape:\", Xoh.shape)\n",
    "print(\"Yoh.shape:\", Yoh.shape)"
   ]
  },
  {
   "cell_type": "markdown",
   "metadata": {},
   "source": [
    "You now have:\n",
    "- `X`: a processed version of the human readable dates in the training set, where each character is replaced by an index mapped to the character via `human_vocab`. Each date is further padded to $T_x$ values with a special character (< pad >). `X.shape = (m, Tx)`\n",
    "- `Y`: a processed version of the machine readable dates in the training set, where each character is replaced by the index it is mapped to in `machine_vocab`. You should have `Y.shape = (m, Ty)`. \n",
    "- `Xoh`: one-hot version of `X`, the \"1\" entry's index is mapped to the character thanks to `human_vocab`. `Xoh.shape = (m, Tx, len(human_vocab))`\n",
    "- `Yoh`: one-hot version of `Y`, the \"1\" entry's index is mapped to the character thanks to `machine_vocab`. `Yoh.shape = (m, Tx, len(machine_vocab))`. Here, `len(machine_vocab) = 11` since there are 11 characters ('-' as well as 0-9). \n"
   ]
  },
  {
   "cell_type": "markdown",
   "metadata": {},
   "source": [
    "Lets also look at some examples of preprocessed training examples. Feel free to play with `index` in the cell below to navigate the dataset and see how source/target dates are preprocessed. "
   ]
  },
  {
   "cell_type": "code",
   "execution_count": 7,
   "metadata": {},
   "outputs": [
    {
     "name": "stdout",
     "output_type": "stream",
     "text": [
      "Source date: 9 may 1998\n",
      "Target date: 1998-05-09\n",
      "\n",
      "Source after preprocessing (indices): [12  0 24 13 34  0  4 12 12 11 36 36 36 36 36 36 36 36 36 36 36 36 36 36\n",
      " 36 36 36 36 36 36]\n",
      "Target after preprocessing (indices): [ 2 10 10  9  0  1  6  0  1 10]\n",
      "\n",
      "Source after preprocessing (one-hot): [[0. 0. 0. ... 0. 0. 0.]\n",
      " [1. 0. 0. ... 0. 0. 0.]\n",
      " [0. 0. 0. ... 0. 0. 0.]\n",
      " ...\n",
      " [0. 0. 0. ... 0. 0. 1.]\n",
      " [0. 0. 0. ... 0. 0. 1.]\n",
      " [0. 0. 0. ... 0. 0. 1.]]\n",
      "Target after preprocessing (one-hot): [[0. 0. 1. 0. 0. 0. 0. 0. 0. 0. 0.]\n",
      " [0. 0. 0. 0. 0. 0. 0. 0. 0. 0. 1.]\n",
      " [0. 0. 0. 0. 0. 0. 0. 0. 0. 0. 1.]\n",
      " [0. 0. 0. 0. 0. 0. 0. 0. 0. 1. 0.]\n",
      " [1. 0. 0. 0. 0. 0. 0. 0. 0. 0. 0.]\n",
      " [0. 1. 0. 0. 0. 0. 0. 0. 0. 0. 0.]\n",
      " [0. 0. 0. 0. 0. 0. 1. 0. 0. 0. 0.]\n",
      " [1. 0. 0. 0. 0. 0. 0. 0. 0. 0. 0.]\n",
      " [0. 1. 0. 0. 0. 0. 0. 0. 0. 0. 0.]\n",
      " [0. 0. 0. 0. 0. 0. 0. 0. 0. 0. 1.]]\n"
     ]
    }
   ],
   "source": [
    "index = 0\n",
    "print(\"Source date:\", dataset[index][0])\n",
    "print(\"Target date:\", dataset[index][1])\n",
    "print()\n",
    "print(\"Source after preprocessing (indices):\", X[index])\n",
    "print(\"Target after preprocessing (indices):\", Y[index])\n",
    "print()\n",
    "print(\"Source after preprocessing (one-hot):\", Xoh[index])\n",
    "print(\"Target after preprocessing (one-hot):\", Yoh[index])"
   ]
  },
  {
   "cell_type": "markdown",
   "metadata": {},
   "source": [
    "## 2 - Neural machine translation with attention\n",
    "\n",
    "If you had to translate a book's paragraph from French to English, you would not read the whole paragraph, then close the book and translate. Even during the translation process, you would read/re-read and focus on the parts of the French paragraph corresponding to the parts of the English you are writing down. \n",
    "\n",
    "The attention mechanism tells a Neural Machine Translation model where it should pay attention to at any step. \n",
    "\n",
    "\n",
    "### 2.1 - Attention mechanism\n",
    "\n",
    "In this part, you will implement the attention mechanism presented in the lecture videos. Here is a figure to remind you how the model works. The diagram on the left shows the attention model. The diagram on the right shows what one \"Attention\" step does to calculate the attention variables $\\alpha^{\\langle t, t' \\rangle}$, which are used to compute the context variable $context^{\\langle t \\rangle}$ for each timestep in the output ($t=1, \\ldots, T_y$). \n",
    "\n",
    "<table>\n",
    "<td> \n",
    "<img src=\"images/attn_model.png\" style=\"width:500;height:500px;\"> <br>\n",
    "</td> \n",
    "<td> \n",
    "<img src=\"images/attn_mechanism.png\" style=\"width:500;height:500px;\"> <br>\n",
    "</td> \n",
    "</table>\n",
    "<caption><center> **Figure 1**: Neural machine translation with attention</center></caption>\n"
   ]
  },
  {
   "cell_type": "markdown",
   "metadata": {},
   "source": [
    "\n",
    "Here are some properties of the model that you may notice: \n",
    "\n",
    "- There are two separate LSTMs in this model (see diagram on the left). Because the one at the bottom of the picture is a Bi-directional LSTM and comes *before* the attention mechanism, we will call it *pre-attention* Bi-LSTM. The LSTM at the top of the diagram comes *after* the attention mechanism, so we will call it the *post-attention* LSTM. The pre-attention Bi-LSTM goes through $T_x$ time steps; the post-attention LSTM goes through $T_y$ time steps. \n",
    "\n",
    "- The post-attention LSTM passes $s^{\\langle t \\rangle}, c^{\\langle t \\rangle}$ from one time step to the next. In the lecture videos, we were using only a basic RNN for the post-activation sequence model, so the state captured by the RNN output activations $s^{\\langle t\\rangle}$. But since we are using an LSTM here, the LSTM has both the output activation $s^{\\langle t\\rangle}$ and the hidden cell state $c^{\\langle t\\rangle}$. However, unlike previous text generation examples (such as Dinosaurus in week 1), in this model the post-activation LSTM at time $t$ does will not take the specific generated $y^{\\langle t-1 \\rangle}$ as input; it only takes $s^{\\langle t\\rangle}$ and $c^{\\langle t\\rangle}$ as input. We have designed the model this way, because (unlike language generation where adjacent characters are highly correlated) there isn't as strong a dependency between the previous character and the next character in a YYYY-MM-DD date. \n",
    "\n",
    "- We use $a^{\\langle t \\rangle} = [\\overrightarrow{a}^{\\langle t \\rangle}; \\overleftarrow{a}^{\\langle t \\rangle}]$ to represent the concatenation of the activations of both the forward-direction and backward-directions of the pre-attention Bi-LSTM. \n",
    "\n",
    "- The diagram on the right uses a `RepeatVector` node to copy $s^{\\langle t-1 \\rangle}$'s value $T_x$ times, and then `Concatenation` to concatenate $s^{\\langle t-1 \\rangle}$ and $a^{\\langle t \\rangle}$ to compute $e^{\\langle t, t'}$, which is then passed through a softmax to compute $\\alpha^{\\langle t, t' \\rangle}$. We'll explain how to use `RepeatVector` and `Concatenation` in Keras below. \n",
    "\n",
    "Lets implement this model. You will start by implementing two functions: `one_step_attention()` and `model()`.\n",
    "\n",
    "**1) `one_step_attention()`**: At step $t$, given all the hidden states of the Bi-LSTM ($[a^{<1>},a^{<2>}, ..., a^{<T_x>}]$) and the previous hidden state of the second LSTM ($s^{<t-1>}$), `one_step_attention()` will compute the attention weights ($[\\alpha^{<t,1>},\\alpha^{<t,2>}, ..., \\alpha^{<t,T_x>}]$) and output the context vector (see Figure  1 (right) for details):\n",
    "$$context^{<t>} = \\sum_{t' = 0}^{T_x} \\alpha^{<t,t'>}a^{<t'>}\\tag{1}$$ \n",
    "\n",
    "Note that we are denoting the attention in this notebook $context^{\\langle t \\rangle}$. In the lecture videos, the context was denoted $c^{\\langle t \\rangle}$, but here we are calling it $context^{\\langle t \\rangle}$ to avoid confusion with the (post-attention) LSTM's internal memory cell variable, which is sometimes also denoted $c^{\\langle t \\rangle}$. \n",
    "  \n",
    "**2) `model()`**: Implements the entire model. It first runs the input through a Bi-LSTM to get back $[a^{<1>},a^{<2>}, ..., a^{<T_x>}]$. Then, it calls `one_step_attention()` $T_y$ times (`for` loop). At each iteration of this loop, it gives the computed context vector $c^{<t>}$ to the second LSTM, and runs the output of the LSTM through a dense layer with softmax activation to generate a prediction $\\hat{y}^{<t>}$. \n",
    "\n",
    "\n",
    "\n",
    "**Exercise**: Implement `one_step_attention()`. The function `model()` will call the layers in `one_step_attention()` $T_y$ using a for-loop, and it is important that all $T_y$ copies have the same weights. I.e., it should not re-initiaiize the weights every time. In other words, all $T_y$ steps should have shared weights. Here's how you can implement layers with shareable weights in Keras:\n",
    "1. Define the layer objects (as global variables for examples).\n",
    "2. Call these objects when propagating the input.\n",
    "\n",
    "We have defined the layers you need as global variables. Please run the following cells to create them. Please check the Keras documentation to make sure you understand what these layers are: [RepeatVector()](https://keras.io/layers/core/#repeatvector), [Concatenate()](https://keras.io/layers/merge/#concatenate), [Dense()](https://keras.io/layers/core/#dense), [Activation()](https://keras.io/layers/core/#activation), [Dot()](https://keras.io/layers/merge/#dot)."
   ]
  },
  {
   "cell_type": "code",
   "execution_count": 8,
   "metadata": {},
   "outputs": [],
   "source": [
    "# Defined shared layers as global variables\n",
    "repeator = RepeatVector(Tx)\n",
    "concatenator = Concatenate(axis=-1)\n",
    "densor1 = Dense(10, activation = \"tanh\")\n",
    "densor2 = Dense(1, activation = \"relu\")\n",
    "activator = Activation(softmax, name='attention_weights') # We are using a custom softmax(axis = 1) loaded in this notebook\n",
    "dotor = Dot(axes = 1)"
   ]
  },
  {
   "cell_type": "markdown",
   "metadata": {},
   "source": [
    "Now you can use these layers to implement `one_step_attention()`. In order to propagate a Keras tensor object X through one of these layers, use `layer(X)` (or `layer([X,Y])` if it requires multiple inputs.), e.g. `densor(X)` will propagate X through the `Dense(1)` layer defined above."
   ]
  },
  {
   "cell_type": "code",
   "execution_count": 9,
   "metadata": {},
   "outputs": [],
   "source": [
    "# GRADED FUNCTION: one_step_attention\n",
    "\n",
    "def one_step_attention(a, s_prev):\n",
    "    \"\"\"\n",
    "    Performs one step of attention: Outputs a context vector computed as a dot product of the attention weights\n",
    "    \"alphas\" and the hidden states \"a\" of the Bi-LSTM.\n",
    "    \n",
    "    Arguments:\n",
    "    a -- hidden state output of the Bi-LSTM, numpy-array of shape (m, Tx, 2*n_a)\n",
    "    s_prev -- previous hidden state of the (post-attention) LSTM, numpy-array of shape (m, n_s)\n",
    "    \n",
    "    Returns:\n",
    "    context -- context vector, input of the next (post-attetion) LSTM cell\n",
    "    \"\"\"\n",
    "    \n",
    "    ### START CODE HERE ###\n",
    "    # Use repeator to repeat s_prev to be of shape (m, Tx, n_s) so that you can concatenate it with all hidden states \"a\" (≈ 1 line)\n",
    "    s_prev = repeator(s_prev)\n",
    "    # Use concatenator to concatenate a and s_prev on the last axis (≈ 1 line)\n",
    "    concat = concatenator([a, s_prev])\n",
    "    # Use densor1 to propagate concat through a small fully-connected neural network to compute the \"intermediate energies\" variable e. (≈1 lines)\n",
    "    e = densor1(concat)\n",
    "    # Use densor2 to propagate e through a small fully-connected neural network to compute the \"energies\" variable energies. (≈1 lines)\n",
    "    energies = densor2(e)\n",
    "    # Use \"activator\" on \"energies\" to compute the attention weights \"alphas\" (≈ 1 line)\n",
    "    alphas = activator(energies)\n",
    "    # Use dotor together with \"alphas\" and \"a\" to compute the context vector to be given to the next (post-attention) LSTM-cell (≈ 1 line)\n",
    "    context = dotor([alphas, a])\n",
    "    ### END CODE HERE ###\n",
    "    \n",
    "    return context"
   ]
  },
  {
   "cell_type": "markdown",
   "metadata": {},
   "source": [
    "You will be able to check the expected output of `one_step_attention()` after you've coded the `model()` function."
   ]
  },
  {
   "cell_type": "markdown",
   "metadata": {},
   "source": [
    "**Exercise**: Implement `model()` as explained in figure 2 and the text above. Again, we have defined global layers that will share weights to be used in `model()`."
   ]
  },
  {
   "cell_type": "code",
   "execution_count": 10,
   "metadata": {},
   "outputs": [],
   "source": [
    "n_a = 32\n",
    "n_s = 64\n",
    "post_activation_LSTM_cell = LSTM(n_s, return_state = True)\n",
    "output_layer = Dense(len(machine_vocab), activation=softmax)"
   ]
  },
  {
   "cell_type": "markdown",
   "metadata": {},
   "source": [
    "Now you can use these layers $T_y$ times in a `for` loop to generate the outputs, and their parameters will not be reinitialized. You will have to carry out the following steps: \n",
    "\n",
    "1. Propagate the input into a [Bidirectional](https://keras.io/layers/wrappers/#bidirectional) [LSTM](https://keras.io/layers/recurrent/#lstm)\n",
    "2. Iterate for $t = 0, \\dots, T_y-1$: \n",
    "    1. Call `one_step_attention()` on $[\\alpha^{<t,1>},\\alpha^{<t,2>}, ..., \\alpha^{<t,T_x>}]$ and $s^{<t-1>}$ to get the context vector $context^{<t>}$.\n",
    "    2. Give $context^{<t>}$ to the post-attention LSTM cell. Remember pass in the previous hidden-state $s^{\\langle t-1\\rangle}$ and cell-states $c^{\\langle t-1\\rangle}$ of this LSTM using `initial_state= [previous hidden state, previous cell state]`. Get back the new hidden state $s^{<t>}$ and the new cell state $c^{<t>}$.\n",
    "    3. Apply a softmax layer to $s^{<t>}$, get the output. \n",
    "    4. Save the output by adding it to the list of outputs.\n",
    "\n",
    "3. Create your Keras model instance, it should have three inputs (\"inputs\", $s^{<0>}$ and $c^{<0>}$) and output the list of \"outputs\"."
   ]
  },
  {
   "cell_type": "code",
   "execution_count": 11,
   "metadata": {},
   "outputs": [],
   "source": [
    "# GRADED FUNCTION: model\n",
    "\n",
    "def model(Tx, Ty, n_a, n_s, human_vocab_size, machine_vocab_size):\n",
    "    \"\"\"\n",
    "    Arguments:\n",
    "    Tx -- length of the input sequence\n",
    "    Ty -- length of the output sequence\n",
    "    n_a -- hidden state size of the Bi-LSTM\n",
    "    n_s -- hidden state size of the post-attention LSTM\n",
    "    human_vocab_size -- size of the python dictionary \"human_vocab\"\n",
    "    machine_vocab_size -- size of the python dictionary \"machine_vocab\"\n",
    "\n",
    "    Returns:\n",
    "    model -- Keras model instance\n",
    "    \"\"\"\n",
    "    \n",
    "    # Define the inputs of your model with a shape (Tx,)\n",
    "    # Define s0 and c0, initial hidden state for the decoder LSTM of shape (n_s,)\n",
    "    X = Input(shape=(Tx, human_vocab_size))\n",
    "    s0 = Input(shape=(n_s,), name='s0')\n",
    "    c0 = Input(shape=(n_s,), name='c0')\n",
    "    s = s0\n",
    "    c = c0\n",
    "    \n",
    "    # Initialize empty list of outputs\n",
    "    outputs = []\n",
    "    \n",
    "    ### START CODE HERE ###\n",
    "    \n",
    "    # Step 1: Define your pre-attention Bi-LSTM. Remember to use return_sequences=True. (≈ 1 line)\n",
    "    a = Bidirectional(LSTM(n_a, return_sequences=True))(X)\n",
    "    \n",
    "    # Step 2: Iterate for Ty steps\n",
    "    for t in range(Ty):\n",
    "    \n",
    "        # Step 2.A: Perform one step of the attention mechanism to get back the context vector at step t (≈ 1 line)\n",
    "        context = one_step_attention(a, s)\n",
    "        \n",
    "        # Step 2.B: Apply the post-attention LSTM cell to the \"context\" vector.\n",
    "        # Don't forget to pass: initial_state = [hidden state, cell state] (≈ 1 line)\n",
    "        s, _, c = post_activation_LSTM_cell(context, initial_state = [s, c] )\n",
    "        \n",
    "        # Step 2.C: Apply Dense layer to the hidden state output of the post-attention LSTM (≈ 1 line)\n",
    "        out = output_layer(s)\n",
    "        \n",
    "        # Step 2.D: Append \"out\" to the \"outputs\" list (≈ 1 line)\n",
    "        outputs.append(out)\n",
    "    \n",
    "    # Step 3: Create model instance taking three inputs and returning the list of outputs. (≈ 1 line)\n",
    "    model = Model(inputs=[X, s0, c0], outputs=outputs)\n",
    "    \n",
    "    ### END CODE HERE ###\n",
    "    \n",
    "    return model"
   ]
  },
  {
   "cell_type": "markdown",
   "metadata": {},
   "source": [
    "Run the following cell to create your model."
   ]
  },
  {
   "cell_type": "code",
   "execution_count": 12,
   "metadata": {},
   "outputs": [],
   "source": [
    "model = model(Tx, Ty, n_a, n_s, len(human_vocab), len(machine_vocab))"
   ]
  },
  {
   "cell_type": "markdown",
   "metadata": {},
   "source": [
    "Let's get a summary of the model to check if it matches the expected output."
   ]
  },
  {
   "cell_type": "code",
   "execution_count": 13,
   "metadata": {},
   "outputs": [
    {
     "name": "stdout",
     "output_type": "stream",
     "text": [
      "__________________________________________________________________________________________________\n",
      "Layer (type)                    Output Shape         Param #     Connected to                     \n",
      "==================================================================================================\n",
      "input_1 (InputLayer)            (None, 30, 37)       0                                            \n",
      "__________________________________________________________________________________________________\n",
      "s0 (InputLayer)                 (None, 64)           0                                            \n",
      "__________________________________________________________________________________________________\n",
      "bidirectional_1 (Bidirectional) (None, 30, 64)       17920       input_1[0][0]                    \n",
      "__________________________________________________________________________________________________\n",
      "repeat_vector_1 (RepeatVector)  (None, 30, 64)       0           s0[0][0]                         \n",
      "                                                                 lstm_1[0][0]                     \n",
      "                                                                 lstm_1[1][0]                     \n",
      "                                                                 lstm_1[2][0]                     \n",
      "                                                                 lstm_1[3][0]                     \n",
      "                                                                 lstm_1[4][0]                     \n",
      "                                                                 lstm_1[5][0]                     \n",
      "                                                                 lstm_1[6][0]                     \n",
      "                                                                 lstm_1[7][0]                     \n",
      "                                                                 lstm_1[8][0]                     \n",
      "__________________________________________________________________________________________________\n",
      "concatenate_1 (Concatenate)     (None, 30, 128)      0           bidirectional_1[0][0]            \n",
      "                                                                 repeat_vector_1[0][0]            \n",
      "                                                                 bidirectional_1[0][0]            \n",
      "                                                                 repeat_vector_1[1][0]            \n",
      "                                                                 bidirectional_1[0][0]            \n",
      "                                                                 repeat_vector_1[2][0]            \n",
      "                                                                 bidirectional_1[0][0]            \n",
      "                                                                 repeat_vector_1[3][0]            \n",
      "                                                                 bidirectional_1[0][0]            \n",
      "                                                                 repeat_vector_1[4][0]            \n",
      "                                                                 bidirectional_1[0][0]            \n",
      "                                                                 repeat_vector_1[5][0]            \n",
      "                                                                 bidirectional_1[0][0]            \n",
      "                                                                 repeat_vector_1[6][0]            \n",
      "                                                                 bidirectional_1[0][0]            \n",
      "                                                                 repeat_vector_1[7][0]            \n",
      "                                                                 bidirectional_1[0][0]            \n",
      "                                                                 repeat_vector_1[8][0]            \n",
      "                                                                 bidirectional_1[0][0]            \n",
      "                                                                 repeat_vector_1[9][0]            \n",
      "__________________________________________________________________________________________________\n",
      "dense_1 (Dense)                 (None, 30, 10)       1290        concatenate_1[0][0]              \n",
      "                                                                 concatenate_1[1][0]              \n",
      "                                                                 concatenate_1[2][0]              \n",
      "                                                                 concatenate_1[3][0]              \n",
      "                                                                 concatenate_1[4][0]              \n",
      "                                                                 concatenate_1[5][0]              \n",
      "                                                                 concatenate_1[6][0]              \n",
      "                                                                 concatenate_1[7][0]              \n",
      "                                                                 concatenate_1[8][0]              \n",
      "                                                                 concatenate_1[9][0]              \n",
      "__________________________________________________________________________________________________\n",
      "dense_2 (Dense)                 (None, 30, 1)        11          dense_1[0][0]                    \n",
      "                                                                 dense_1[1][0]                    \n",
      "                                                                 dense_1[2][0]                    \n",
      "                                                                 dense_1[3][0]                    \n",
      "                                                                 dense_1[4][0]                    \n",
      "                                                                 dense_1[5][0]                    \n",
      "                                                                 dense_1[6][0]                    \n",
      "                                                                 dense_1[7][0]                    \n",
      "                                                                 dense_1[8][0]                    \n",
      "                                                                 dense_1[9][0]                    \n",
      "__________________________________________________________________________________________________\n",
      "attention_weights (Activation)  (None, 30, 1)        0           dense_2[0][0]                    \n",
      "                                                                 dense_2[1][0]                    \n",
      "                                                                 dense_2[2][0]                    \n",
      "                                                                 dense_2[3][0]                    \n",
      "                                                                 dense_2[4][0]                    \n",
      "                                                                 dense_2[5][0]                    \n",
      "                                                                 dense_2[6][0]                    \n",
      "                                                                 dense_2[7][0]                    \n",
      "                                                                 dense_2[8][0]                    \n",
      "                                                                 dense_2[9][0]                    \n",
      "__________________________________________________________________________________________________\n",
      "dot_1 (Dot)                     (None, 1, 64)        0           attention_weights[0][0]          \n",
      "                                                                 bidirectional_1[0][0]            \n",
      "                                                                 attention_weights[1][0]          \n",
      "                                                                 bidirectional_1[0][0]            \n",
      "                                                                 attention_weights[2][0]          \n",
      "                                                                 bidirectional_1[0][0]            \n",
      "                                                                 attention_weights[3][0]          \n",
      "                                                                 bidirectional_1[0][0]            \n"
     ]
    },
    {
     "name": "stdout",
     "output_type": "stream",
     "text": [
      "                                                                 attention_weights[4][0]          \n",
      "                                                                 bidirectional_1[0][0]            \n",
      "                                                                 attention_weights[5][0]          \n",
      "                                                                 bidirectional_1[0][0]            \n",
      "                                                                 attention_weights[6][0]          \n",
      "                                                                 bidirectional_1[0][0]            \n",
      "                                                                 attention_weights[7][0]          \n",
      "                                                                 bidirectional_1[0][0]            \n",
      "                                                                 attention_weights[8][0]          \n",
      "                                                                 bidirectional_1[0][0]            \n",
      "                                                                 attention_weights[9][0]          \n",
      "                                                                 bidirectional_1[0][0]            \n",
      "__________________________________________________________________________________________________\n",
      "c0 (InputLayer)                 (None, 64)           0                                            \n",
      "__________________________________________________________________________________________________\n",
      "lstm_1 (LSTM)                   [(None, 64), (None,  33024       dot_1[0][0]                      \n",
      "                                                                 s0[0][0]                         \n",
      "                                                                 c0[0][0]                         \n",
      "                                                                 dot_1[1][0]                      \n",
      "                                                                 lstm_1[0][0]                     \n",
      "                                                                 lstm_1[0][2]                     \n",
      "                                                                 dot_1[2][0]                      \n",
      "                                                                 lstm_1[1][0]                     \n",
      "                                                                 lstm_1[1][2]                     \n",
      "                                                                 dot_1[3][0]                      \n",
      "                                                                 lstm_1[2][0]                     \n",
      "                                                                 lstm_1[2][2]                     \n",
      "                                                                 dot_1[4][0]                      \n",
      "                                                                 lstm_1[3][0]                     \n",
      "                                                                 lstm_1[3][2]                     \n",
      "                                                                 dot_1[5][0]                      \n",
      "                                                                 lstm_1[4][0]                     \n",
      "                                                                 lstm_1[4][2]                     \n",
      "                                                                 dot_1[6][0]                      \n",
      "                                                                 lstm_1[5][0]                     \n",
      "                                                                 lstm_1[5][2]                     \n",
      "                                                                 dot_1[7][0]                      \n",
      "                                                                 lstm_1[6][0]                     \n",
      "                                                                 lstm_1[6][2]                     \n",
      "                                                                 dot_1[8][0]                      \n",
      "                                                                 lstm_1[7][0]                     \n",
      "                                                                 lstm_1[7][2]                     \n",
      "                                                                 dot_1[9][0]                      \n",
      "                                                                 lstm_1[8][0]                     \n",
      "                                                                 lstm_1[8][2]                     \n",
      "__________________________________________________________________________________________________\n",
      "dense_3 (Dense)                 (None, 11)           715         lstm_1[0][0]                     \n",
      "                                                                 lstm_1[1][0]                     \n",
      "                                                                 lstm_1[2][0]                     \n",
      "                                                                 lstm_1[3][0]                     \n",
      "                                                                 lstm_1[4][0]                     \n",
      "                                                                 lstm_1[5][0]                     \n",
      "                                                                 lstm_1[6][0]                     \n",
      "                                                                 lstm_1[7][0]                     \n",
      "                                                                 lstm_1[8][0]                     \n",
      "                                                                 lstm_1[9][0]                     \n",
      "==================================================================================================\n",
      "Total params: 52,960\n",
      "Trainable params: 52,960\n",
      "Non-trainable params: 0\n",
      "__________________________________________________________________________________________________\n"
     ]
    }
   ],
   "source": [
    "model.summary()"
   ]
  },
  {
   "cell_type": "markdown",
   "metadata": {},
   "source": [
    "**Expected Output**:\n",
    "\n",
    "Here is the summary you should see\n",
    "<table>\n",
    "    <tr>\n",
    "        <td>\n",
    "            **Total params:**\n",
    "        </td>\n",
    "        <td>\n",
    "         185,484\n",
    "        </td>\n",
    "    </tr>\n",
    "        <tr>\n",
    "        <td>\n",
    "            **Trainable params:**\n",
    "        </td>\n",
    "        <td>\n",
    "         185,484\n",
    "        </td>\n",
    "    </tr>\n",
    "            <tr>\n",
    "        <td>\n",
    "            **Non-trainable params:**\n",
    "        </td>\n",
    "        <td>\n",
    "         0\n",
    "        </td>\n",
    "    </tr>\n",
    "                    <tr>\n",
    "        <td>\n",
    "            **bidirectional_1's output shape **\n",
    "        </td>\n",
    "        <td>\n",
    "         (None, 30, 128)  \n",
    "        </td>\n",
    "    </tr>\n",
    "    <tr>\n",
    "        <td>\n",
    "            **repeat_vector_1's output shape **\n",
    "        </td>\n",
    "        <td>\n",
    "         (None, 30, 128)  \n",
    "        </td>\n",
    "    </tr>\n",
    "                <tr>\n",
    "        <td>\n",
    "            **concatenate_1's output shape **\n",
    "        </td>\n",
    "        <td>\n",
    "         (None, 30, 256) \n",
    "        </td>\n",
    "    </tr>\n",
    "            <tr>\n",
    "        <td>\n",
    "            **attention_weights's output shape **\n",
    "        </td>\n",
    "        <td>\n",
    "         (None, 30, 1)  \n",
    "        </td>\n",
    "    </tr>\n",
    "        <tr>\n",
    "        <td>\n",
    "            **dot_1's output shape **\n",
    "        </td>\n",
    "        <td>\n",
    "         (None, 1, 128) \n",
    "        </td>\n",
    "    </tr>\n",
    "           <tr>\n",
    "        <td>\n",
    "            **dense_2's output shape **\n",
    "        </td>\n",
    "        <td>\n",
    "         (None, 11) \n",
    "        </td>\n",
    "    </tr>\n",
    "</table>\n"
   ]
  },
  {
   "cell_type": "markdown",
   "metadata": {},
   "source": [
    "As usual, after creating your model in Keras, you need to compile it and define what loss, optimizer and metrics your are want to use. Compile your model using `categorical_crossentropy` loss, a custom [Adam](https://keras.io/optimizers/#adam) [optimizer](https://keras.io/optimizers/#usage-of-optimizers) (`learning rate = 0.005`, $\\beta_1 = 0.9$, $\\beta_2 = 0.999$, `decay = 0.01`)  and `['accuracy']` metrics:"
   ]
  },
  {
   "cell_type": "code",
   "execution_count": 14,
   "metadata": {},
   "outputs": [],
   "source": [
    "### START CODE HERE ### (≈2 lines)\n",
    "opt = Adam(lr=0.005, beta_1=0.9, beta_2=0.999,decay=0.01)\n",
    "model.compile(loss='categorical_crossentropy', optimizer=opt, metrics=['accuracy'])\n",
    "### END CODE HERE ###"
   ]
  },
  {
   "cell_type": "markdown",
   "metadata": {},
   "source": [
    "The last step is to define all your inputs and outputs to fit the model:\n",
    "- You already have X of shape $(m = 10000, T_x = 30)$ containing the training examples.\n",
    "- You need to create `s0` and `c0` to initialize your `post_activation_LSTM_cell` with 0s.\n",
    "- Given the `model()` you coded, you need the \"outputs\" to be a list of 11 elements of shape (m, T_y). So that: `outputs[i][0], ..., outputs[i][Ty]` represent the true labels (characters) corresponding to the $i^{th}$ training example (`X[i]`). More generally, `outputs[i][j]` is the true label of the $j^{th}$ character in the $i^{th}$ training example."
   ]
  },
  {
   "cell_type": "code",
   "execution_count": 15,
   "metadata": {},
   "outputs": [],
   "source": [
    "s0 = np.zeros((m, n_s))\n",
    "c0 = np.zeros((m, n_s))\n",
    "outputs = list(Yoh.swapaxes(0,1))"
   ]
  },
  {
   "cell_type": "markdown",
   "metadata": {},
   "source": [
    "Let's now fit the model and run it for one epoch."
   ]
  },
  {
   "cell_type": "code",
   "execution_count": 16,
   "metadata": {},
   "outputs": [
    {
     "name": "stdout",
     "output_type": "stream",
     "text": [
      "WARNING:tensorflow:Variable *= will be deprecated. Use variable.assign_mul if you want assignment to the variable value or 'x = x * y' if you want a new python Tensor object.\n",
      "Epoch 1/1\n"
     ]
    },
    {
     "name": "stdout",
     "output_type": "stream",
     "text": [
      " 2800/10000 [=======>......................] - ETA: 10:47 - loss: 23.9655 - dense_3_loss: 2.3971 - dense_3_acc: 0.0000e+00 - dense_3_acc_1: 0.0100 - dense_3_acc_2: 0.0200 - dense_3_acc_3: 0.0900 - dense_3_acc_4: 0.1600 - dense_3_acc_5: 0.0000e+00 - dense_3_acc_6: 0.0500 - dense_3_acc_7: 0.3200 - dense_3_acc_8: 0.0300 - dense_3_acc_9: 0.03 - ETA: 5:28 - loss: 23.7464 - dense_3_loss: 2.4066 - dense_3_acc: 0.0000e+00 - dense_3_acc_1: 0.0050 - dense_3_acc_2: 0.0100 - dense_3_acc_3: 0.0450 - dense_3_acc_4: 0.5800 - dense_3_acc_5: 0.0000e+00 - dense_3_acc_6: 0.0250 - dense_3_acc_7: 0.6600 - dense_3_acc_8: 0.0150 - dense_3_acc_9: 0.0150 - ETA: 3:42 - loss: 23.4799 - dense_3_loss: 2.4232 - dense_3_acc: 0.0000e+00 - dense_3_acc_1: 0.0033 - dense_3_acc_2: 0.0067 - dense_3_acc_3: 0.0300 - dense_3_acc_4: 0.7200 - dense_3_acc_5: 0.0000e+00 - dense_3_acc_6: 0.0167 - dense_3_acc_7: 0.7733 - dense_3_acc_8: 0.0100 - dense_3_acc_9: 0.010 - ETA: 2:49 - loss: 23.2040 - dense_3_loss: 2.4671 - dense_3_acc: 0.0000e+00 - dense_3_acc_1: 0.0025 - dense_3_acc_2: 0.0050 - dense_3_acc_3: 0.0225 - dense_3_acc_4: 0.7900 - dense_3_acc_5: 0.0000e+00 - dense_3_acc_6: 0.0125 - dense_3_acc_7: 0.8300 - dense_3_acc_8: 0.0075 - dense_3_acc_9: 0.007 - ETA: 2:17 - loss: 22.9492 - dense_3_loss: 2.5628 - dense_3_acc: 0.0000e+00 - dense_3_acc_1: 0.0020 - dense_3_acc_2: 0.0040 - dense_3_acc_3: 0.0180 - dense_3_acc_4: 0.8320 - dense_3_acc_5: 0.0000e+00 - dense_3_acc_6: 0.0100 - dense_3_acc_7: 0.8640 - dense_3_acc_8: 0.0060 - dense_3_acc_9: 0.006 - ETA: 1:55 - loss: 22.8184 - dense_3_loss: 2.7172 - dense_3_acc: 0.0000e+00 - dense_3_acc_1: 0.0017 - dense_3_acc_2: 0.0033 - dense_3_acc_3: 0.0150 - dense_3_acc_4: 0.8600 - dense_3_acc_5: 0.0000e+00 - dense_3_acc_6: 0.0083 - dense_3_acc_7: 0.8867 - dense_3_acc_8: 0.0050 - dense_3_acc_9: 0.005 - ETA: 1:40 - loss: 22.6705 - dense_3_loss: 2.7760 - dense_3_acc: 0.0000e+00 - dense_3_acc_1: 0.0014 - dense_3_acc_2: 0.0029 - dense_3_acc_3: 0.0129 - dense_3_acc_4: 0.8800 - dense_3_acc_5: 0.0000e+00 - dense_3_acc_6: 0.0071 - dense_3_acc_7: 0.9029 - dense_3_acc_8: 0.0043 - dense_3_acc_9: 0.004 - ETA: 1:28 - loss: 22.5617 - dense_3_loss: 2.8062 - dense_3_acc: 0.0000e+00 - dense_3_acc_1: 0.0012 - dense_3_acc_2: 0.0025 - dense_3_acc_3: 0.0150 - dense_3_acc_4: 0.8113 - dense_3_acc_5: 0.0962 - dense_3_acc_6: 0.0175 - dense_3_acc_7: 0.7900 - dense_3_acc_8: 0.0463 - dense_3_acc_9: 0.0163    - ETA: 1:19 - loss: 22.4432 - dense_3_loss: 2.8046 - dense_3_acc: 0.0000e+00 - dense_3_acc_1: 0.0356 - dense_3_acc_2: 0.0244 - dense_3_acc_3: 0.0178 - dense_3_acc_4: 0.7211 - dense_3_acc_5: 0.1711 - dense_3_acc_6: 0.0256 - dense_3_acc_7: 0.7022 - dense_3_acc_8: 0.0811 - dense_3_acc_9: 0.024 - ETA: 1:12 - loss: 22.3600 - dense_3_loss: 2.8086 - dense_3_acc: 0.0000e+00 - dense_3_acc_1: 0.0670 - dense_3_acc_2: 0.0420 - dense_3_acc_3: 0.0250 - dense_3_acc_4: 0.6500 - dense_3_acc_5: 0.2270 - dense_3_acc_6: 0.0340 - dense_3_acc_7: 0.6320 - dense_3_acc_8: 0.0980 - dense_3_acc_9: 0.030 - ETA: 1:06 - loss: 22.2837 - dense_3_loss: 2.7959 - dense_3_acc: 0.0000e+00 - dense_3_acc_1: 0.0609 - dense_3_acc_2: 0.0382 - dense_3_acc_3: 0.0227 - dense_3_acc_4: 0.6782 - dense_3_acc_5: 0.2155 - dense_3_acc_6: 0.0309 - dense_3_acc_7: 0.6282 - dense_3_acc_8: 0.1027 - dense_3_acc_9: 0.033 - ETA: 1:01 - loss: 22.2216 - dense_3_loss: 2.7979 - dense_3_acc: 0.0000e+00 - dense_3_acc_1: 0.0558 - dense_3_acc_2: 0.0350 - dense_3_acc_3: 0.0208 - dense_3_acc_4: 0.7050 - dense_3_acc_5: 0.1975 - dense_3_acc_6: 0.0283 - dense_3_acc_7: 0.6592 - dense_3_acc_8: 0.0942 - dense_3_acc_9: 0.030 - ETA: 57s - loss: 22.1678 - dense_3_loss: 2.7884 - dense_3_acc: 0.0000e+00 - dense_3_acc_1: 0.0515 - dense_3_acc_2: 0.0323 - dense_3_acc_3: 0.0192 - dense_3_acc_4: 0.7277 - dense_3_acc_5: 0.1823 - dense_3_acc_6: 0.0262 - dense_3_acc_7: 0.6854 - dense_3_acc_8: 0.0869 - dense_3_acc_9: 0.028 - ETA: 54s - loss: 22.0939 - dense_3_loss: 2.7882 - dense_3_acc: 0.0000e+00 - dense_3_acc_1: 0.0479 - dense_3_acc_2: 0.0300 - dense_3_acc_3: 0.0179 - dense_3_acc_4: 0.7471 - dense_3_acc_5: 0.1693 - dense_3_acc_6: 0.0243 - dense_3_acc_7: 0.7079 - dense_3_acc_8: 0.0807 - dense_3_acc_9: 0.02 - ETA: 51s - loss: 22.0373 - dense_3_loss: 2.7929 - dense_3_acc: 0.0000e+00 - dense_3_acc_1: 0.0447 - dense_3_acc_2: 0.0280 - dense_3_acc_3: 0.0167 - dense_3_acc_4: 0.7640 - dense_3_acc_5: 0.1580 - dense_3_acc_6: 0.0227 - dense_3_acc_7: 0.7273 - dense_3_acc_8: 0.0753 - dense_3_acc_9: 0.02 - ETA: 48s - loss: 21.9722 - dense_3_loss: 2.7923 - dense_3_acc: 0.0000e+00 - dense_3_acc_1: 0.0419 - dense_3_acc_2: 0.0263 - dense_3_acc_3: 0.0156 - dense_3_acc_4: 0.7787 - dense_3_acc_5: 0.1481 - dense_3_acc_6: 0.0213 - dense_3_acc_7: 0.7444 - dense_3_acc_8: 0.0706 - dense_3_acc_9: 0.02 - ETA: 45s - loss: 21.9202 - dense_3_loss: 2.7937 - dense_3_acc: 0.0000e+00 - dense_3_acc_1: 0.0465 - dense_3_acc_2: 0.0247 - dense_3_acc_3: 0.0147 - dense_3_acc_4: 0.7918 - dense_3_acc_5: 0.1394 - dense_3_acc_6: 0.0200 - dense_3_acc_7: 0.7594 - dense_3_acc_8: 0.0665 - dense_3_acc_9: 0.02 - ETA: 43s - loss: 21.8712 - dense_3_loss: 2.7995 - dense_3_acc: 0.0000e+00 - dense_3_acc_1: 0.0639 - dense_3_acc_2: 0.0233 - dense_3_acc_3: 0.0139 - dense_3_acc_4: 0.8033 - dense_3_acc_5: 0.1317 - dense_3_acc_6: 0.0189 - dense_3_acc_7: 0.7728 - dense_3_acc_8: 0.0628 - dense_3_acc_9: 0.02 - ETA: 41s - loss: 21.8111 - dense_3_loss: 2.8007 - dense_3_acc: 0.0000e+00 - dense_3_acc_1: 0.0816 - dense_3_acc_2: 0.0337 - dense_3_acc_3: 0.0132 - dense_3_acc_4: 0.8137 - dense_3_acc_5: 0.1247 - dense_3_acc_6: 0.0179 - dense_3_acc_7: 0.7847 - dense_3_acc_8: 0.0595 - dense_3_acc_9: 0.01 - ETA: 39s - loss: 21.7689 - dense_3_loss: 2.8082 - dense_3_acc: 0.0000e+00 - dense_3_acc_1: 0.0935 - dense_3_acc_2: 0.0405 - dense_3_acc_3: 0.0155 - dense_3_acc_4: 0.8230 - dense_3_acc_5: 0.1185 - dense_3_acc_6: 0.0170 - dense_3_acc_7: 0.7955 - dense_3_acc_8: 0.0565 - dense_3_acc_9: 0.01 - ETA: 38s - loss: 21.7160 - dense_3_loss: 2.8065 - dense_3_acc: 0.0000e+00 - dense_3_acc_1: 0.1062 - dense_3_acc_2: 0.0467 - dense_3_acc_3: 0.0205 - dense_3_acc_4: 0.8305 - dense_3_acc_5: 0.1129 - dense_3_acc_6: 0.0162 - dense_3_acc_7: 0.8052 - dense_3_acc_8: 0.0538 - dense_3_acc_9: 0.01 - ETA: 36s - loss: 21.6598 - dense_3_loss: 2.8010 - dense_3_acc: 0.0000e+00 - dense_3_acc_1: 0.1295 - dense_3_acc_2: 0.0523 - dense_3_acc_3: 0.0232 - dense_3_acc_4: 0.8345 - dense_3_acc_5: 0.1077 - dense_3_acc_6: 0.0155 - dense_3_acc_7: 0.8141 - dense_3_acc_8: 0.0514 - dense_3_acc_9: 0.01 - ETA: 35s - loss: 21.5971 - dense_3_loss: 2.7979 - dense_3_acc: 0.0000e+00 - dense_3_acc_1: 0.1496 - dense_3_acc_2: 0.0626 - dense_3_acc_3: 0.0274 - dense_3_acc_4: 0.8296 - dense_3_acc_5: 0.1030 - dense_3_acc_6: 0.0148 - dense_3_acc_7: 0.8222 - dense_3_acc_8: 0.0491 - dense_3_acc_9: 0.01 - ETA: 33s - loss: 21.5388 - dense_3_loss: 2.7906 - dense_3_acc: 0.0000e+00 - dense_3_acc_1: 0.1704 - dense_3_acc_2: 0.0738 - dense_3_acc_3: 0.0329 - dense_3_acc_4: 0.8225 - dense_3_acc_5: 0.0987 - dense_3_acc_6: 0.0142 - dense_3_acc_7: 0.8296 - dense_3_acc_8: 0.0471 - dense_3_acc_9: 0.01 - ETA: 32s - loss: 21.4869 - dense_3_loss: 2.7854 - dense_3_acc: 0.0000e+00 - dense_3_acc_1: 0.1896 - dense_3_acc_2: 0.0776 - dense_3_acc_3: 0.0380 - dense_3_acc_4: 0.8272 - dense_3_acc_5: 0.0948 - dense_3_acc_6: 0.0136 - dense_3_acc_7: 0.8364 - dense_3_acc_8: 0.0452 - dense_3_acc_9: 0.01 - ETA: 31s - loss: 21.4319 - dense_3_loss: 2.7809 - dense_3_acc: 0.0000e+00 - dense_3_acc_1: 0.2088 - dense_3_acc_2: 0.0858 - dense_3_acc_3: 0.0419 - dense_3_acc_4: 0.8338 - dense_3_acc_5: 0.0912 - dense_3_acc_6: 0.0131 - dense_3_acc_7: 0.8427 - dense_3_acc_8: 0.0446 - dense_3_acc_9: 0.02 - ETA: 30s - loss: 21.3854 - dense_3_loss: 2.7791 - dense_3_acc: 0.0000e+00 - dense_3_acc_1: 0.2256 - dense_3_acc_2: 0.0904 - dense_3_acc_3: 0.0441 - dense_3_acc_4: 0.8400 - dense_3_acc_5: 0.0878 - dense_3_acc_6: 0.0126 - dense_3_acc_7: 0.8485 - dense_3_acc_8: 0.0430 - dense_3_acc_9: 0.02 - ETA: 29s - loss: 21.3258 - dense_3_loss: 2.7762 - dense_3_acc: 0.0000e+00 - dense_3_acc_1: 0.2389 - dense_3_acc_2: 0.0982 - dense_3_acc_3: 0.0482 - dense_3_acc_4: 0.8457 - dense_3_acc_5: 0.0846 - dense_3_acc_6: 0.0121 - dense_3_acc_7: 0.8539 - dense_3_acc_8: 0.0414 - dense_3_acc_9: 0.0236\b\b\b\b\b\b\b\b\b\b\b\b\b\b\b\b\b\b\b\b\b\b\b\b\b\b\b\b\b\b\b\b\b\b\b\b\b\b\b\b\b\b\b\b\b\b\b\b\b\b\b\b\b\b\b\b\b\b\b\b\b\b\b\b\b\b\b\b\b\b\b\b\b\b\b\b\b\b\b\b\b\b\b\b\b\b\b\b\b\b\b\b\b\b\b\b\b\b\b\b\b\b\b\b\b\b\b\b\b\b\b\b\b\b\b\b\b\b\b\b\b\b\b\b\b\b\b\b\b\b\b\b\b\b\b\b\b\b\b\b\b\b\b\b\b\b\b\b\b\b\b\b\b\b\b\b\b\b\b\b\b\b\b\b\b\b\b\b\b\b\b\b\b\b\b\b\b\b\b\b\b\b\b\b\b\b\b\b\b\b\b\b\b\b\b\b\b\b\b\b\b\b\b\b\b\b\b\b\b\b\b\b\b\b\b\b\b\b\b\b\b\b\b\b\b\b\b\b\b\b\b\b\b\b\b\b\b\b\b\b\b\b\b\b\b\b\b\b\b\b\b\b\b\b\b\b\b\b\b\b\b\b\b\b\b\b\b\b\b\b\b\b\b\b\b\b\b\b\b\b\b\b\b\b\b\b\b\b\b\b\b\b\b\b\b\b\b\b\b\b\b\b\b\b\b\b\b\b\b\b\b\b\b\b\b\b\b\b\b\b\b\b\b\b\b\b\b\b\b\b\b\b\b\b\b\b"
     ]
    },
    {
     "name": "stdout",
     "output_type": "stream",
     "text": [
      " 5700/10000 [================>.............] - ETA: 28s - loss: 21.2722 - dense_3_loss: 2.7748 - dense_3_acc: 0.0000e+00 - dense_3_acc_1: 0.2528 - dense_3_acc_2: 0.1062 - dense_3_acc_3: 0.0493 - dense_3_acc_4: 0.8510 - dense_3_acc_5: 0.0817 - dense_3_acc_6: 0.0117 - dense_3_acc_7: 0.8590 - dense_3_acc_8: 0.0400 - dense_3_acc_9: 0.02 - ETA: 27s - loss: 21.2272 - dense_3_loss: 2.7792 - dense_3_acc: 0.0000e+00 - dense_3_acc_1: 0.2643 - dense_3_acc_2: 0.1113 - dense_3_acc_3: 0.0517 - dense_3_acc_4: 0.8560 - dense_3_acc_5: 0.0790 - dense_3_acc_6: 0.0113 - dense_3_acc_7: 0.8637 - dense_3_acc_8: 0.0417 - dense_3_acc_9: 0.02 - ETA: 26s - loss: 21.1788 - dense_3_loss: 2.7831 - dense_3_acc: 0.0000e+00 - dense_3_acc_1: 0.2777 - dense_3_acc_2: 0.1158 - dense_3_acc_3: 0.0542 - dense_3_acc_4: 0.8606 - dense_3_acc_5: 0.0765 - dense_3_acc_6: 0.0110 - dense_3_acc_7: 0.8681 - dense_3_acc_8: 0.0448 - dense_3_acc_9: 0.02 - ETA: 25s - loss: 21.1271 - dense_3_loss: 2.7802 - dense_3_acc: 0.0000e+00 - dense_3_acc_1: 0.2872 - dense_3_acc_2: 0.1181 - dense_3_acc_3: 0.0553 - dense_3_acc_4: 0.8650 - dense_3_acc_5: 0.0741 - dense_3_acc_6: 0.0106 - dense_3_acc_7: 0.8722 - dense_3_acc_8: 0.0453 - dense_3_acc_9: 0.03 - ETA: 24s - loss: 21.0770 - dense_3_loss: 2.7780 - dense_3_acc: 0.0000e+00 - dense_3_acc_1: 0.2961 - dense_3_acc_2: 0.1218 - dense_3_acc_3: 0.0582 - dense_3_acc_4: 0.8691 - dense_3_acc_5: 0.0718 - dense_3_acc_6: 0.0103 - dense_3_acc_7: 0.8733 - dense_3_acc_8: 0.0482 - dense_3_acc_9: 0.03 - ETA: 24s - loss: 21.0216 - dense_3_loss: 2.7762 - dense_3_acc: 0.0012 - dense_3_acc_1: 0.3085 - dense_3_acc_2: 0.1247 - dense_3_acc_3: 0.0591 - dense_3_acc_4: 0.8729 - dense_3_acc_5: 0.0697 - dense_3_acc_6: 0.0100 - dense_3_acc_7: 0.8741 - dense_3_acc_8: 0.0524 - dense_3_acc_9: 0.0356   - ETA: 23s - loss: 20.9752 - dense_3_loss: 2.7743 - dense_3_acc: 0.0094 - dense_3_acc_1: 0.3146 - dense_3_acc_2: 0.1323 - dense_3_acc_3: 0.0617 - dense_3_acc_4: 0.8766 - dense_3_acc_5: 0.0677 - dense_3_acc_6: 0.0106 - dense_3_acc_7: 0.8629 - dense_3_acc_8: 0.0594 - dense_3_acc_9: 0.03 - ETA: 22s - loss: 20.9203 - dense_3_loss: 2.7680 - dense_3_acc: 0.0197 - dense_3_acc_1: 0.3239 - dense_3_acc_2: 0.1372 - dense_3_acc_3: 0.0631 - dense_3_acc_4: 0.8800 - dense_3_acc_5: 0.0658 - dense_3_acc_6: 0.0103 - dense_3_acc_7: 0.8658 - dense_3_acc_8: 0.0622 - dense_3_acc_9: 0.04 - ETA: 22s - loss: 20.8726 - dense_3_loss: 2.7701 - dense_3_acc: 0.0316 - dense_3_acc_1: 0.3314 - dense_3_acc_2: 0.1427 - dense_3_acc_3: 0.0632 - dense_3_acc_4: 0.8832 - dense_3_acc_5: 0.0641 - dense_3_acc_6: 0.0100 - dense_3_acc_7: 0.8681 - dense_3_acc_8: 0.0651 - dense_3_acc_9: 0.04 - ETA: 21s - loss: 20.8202 - dense_3_loss: 2.7712 - dense_3_acc: 0.0484 - dense_3_acc_1: 0.3392 - dense_3_acc_2: 0.1468 - dense_3_acc_3: 0.0637 - dense_3_acc_4: 0.8863 - dense_3_acc_5: 0.0624 - dense_3_acc_6: 0.0097 - dense_3_acc_7: 0.8676 - dense_3_acc_8: 0.0697 - dense_3_acc_9: 0.04 - ETA: 20s - loss: 20.7686 - dense_3_loss: 2.7736 - dense_3_acc: 0.0631 - dense_3_acc_1: 0.3456 - dense_3_acc_2: 0.1518 - dense_3_acc_3: 0.0633 - dense_3_acc_4: 0.8892 - dense_3_acc_5: 0.0608 - dense_3_acc_6: 0.0095 - dense_3_acc_7: 0.8685 - dense_3_acc_8: 0.0736 - dense_3_acc_9: 0.04 - ETA: 20s - loss: 20.7063 - dense_3_loss: 2.7724 - dense_3_acc: 0.0790 - dense_3_acc_1: 0.3545 - dense_3_acc_2: 0.1540 - dense_3_acc_3: 0.0650 - dense_3_acc_4: 0.8920 - dense_3_acc_5: 0.0592 - dense_3_acc_6: 0.0093 - dense_3_acc_7: 0.8717 - dense_3_acc_8: 0.0725 - dense_3_acc_9: 0.04 - ETA: 19s - loss: 20.6566 - dense_3_loss: 2.7730 - dense_3_acc: 0.0915 - dense_3_acc_1: 0.3602 - dense_3_acc_2: 0.1561 - dense_3_acc_3: 0.0659 - dense_3_acc_4: 0.8946 - dense_3_acc_5: 0.0578 - dense_3_acc_6: 0.0090 - dense_3_acc_7: 0.8705 - dense_3_acc_8: 0.0756 - dense_3_acc_9: 0.04 - ETA: 19s - loss: 20.5997 - dense_3_loss: 2.7702 - dense_3_acc: 0.1052 - dense_3_acc_1: 0.3669 - dense_3_acc_2: 0.1607 - dense_3_acc_3: 0.0662 - dense_3_acc_4: 0.8971 - dense_3_acc_5: 0.0564 - dense_3_acc_6: 0.0098 - dense_3_acc_7: 0.8624 - dense_3_acc_8: 0.0817 - dense_3_acc_9: 0.04 - ETA: 18s - loss: 20.5484 - dense_3_loss: 2.7705 - dense_3_acc: 0.1172 - dense_3_acc_1: 0.3728 - dense_3_acc_2: 0.1623 - dense_3_acc_3: 0.0670 - dense_3_acc_4: 0.8995 - dense_3_acc_5: 0.0551 - dense_3_acc_6: 0.0095 - dense_3_acc_7: 0.8640 - dense_3_acc_8: 0.0874 - dense_3_acc_9: 0.05 - ETA: 18s - loss: 20.4955 - dense_3_loss: 2.7687 - dense_3_acc: 0.1277 - dense_3_acc_1: 0.3775 - dense_3_acc_2: 0.1645 - dense_3_acc_3: 0.0684 - dense_3_acc_4: 0.9018 - dense_3_acc_5: 0.0539 - dense_3_acc_6: 0.0093 - dense_3_acc_7: 0.8655 - dense_3_acc_8: 0.0882 - dense_3_acc_9: 0.05 - ETA: 17s - loss: 20.4406 - dense_3_loss: 2.7646 - dense_3_acc: 0.1389 - dense_3_acc_1: 0.3831 - dense_3_acc_2: 0.1669 - dense_3_acc_3: 0.0676 - dense_3_acc_4: 0.9040 - dense_3_acc_5: 0.0527 - dense_3_acc_6: 0.0091 - dense_3_acc_7: 0.8680 - dense_3_acc_8: 0.0940 - dense_3_acc_9: 0.05 - ETA: 17s - loss: 20.3872 - dense_3_loss: 2.7633 - dense_3_acc: 0.1502 - dense_3_acc_1: 0.3891 - dense_3_acc_2: 0.1693 - dense_3_acc_3: 0.0667 - dense_3_acc_4: 0.9061 - dense_3_acc_5: 0.0515 - dense_3_acc_6: 0.0089 - dense_3_acc_7: 0.8709 - dense_3_acc_8: 0.0985 - dense_3_acc_9: 0.05 - ETA: 16s - loss: 20.3414 - dense_3_loss: 2.7626 - dense_3_acc: 0.1585 - dense_3_acc_1: 0.3923 - dense_3_acc_2: 0.1723 - dense_3_acc_3: 0.0655 - dense_3_acc_4: 0.9081 - dense_3_acc_5: 0.0504 - dense_3_acc_6: 0.0087 - dense_3_acc_7: 0.8726 - dense_3_acc_8: 0.1023 - dense_3_acc_9: 0.05 - ETA: 16s - loss: 20.2882 - dense_3_loss: 2.7594 - dense_3_acc: 0.1688 - dense_3_acc_1: 0.3977 - dense_3_acc_2: 0.1742 - dense_3_acc_3: 0.0669 - dense_3_acc_4: 0.9100 - dense_3_acc_5: 0.0494 - dense_3_acc_6: 0.0085 - dense_3_acc_7: 0.8683 - dense_3_acc_8: 0.1069 - dense_3_acc_9: 0.05 - ETA: 15s - loss: 20.2264 - dense_3_loss: 2.7554 - dense_3_acc: 0.1794 - dense_3_acc_1: 0.4037 - dense_3_acc_2: 0.1765 - dense_3_acc_3: 0.0673 - dense_3_acc_4: 0.9118 - dense_3_acc_5: 0.0496 - dense_3_acc_6: 0.0092 - dense_3_acc_7: 0.8571 - dense_3_acc_8: 0.1114 - dense_3_acc_9: 0.05 - ETA: 15s - loss: 20.1719 - dense_3_loss: 2.7525 - dense_3_acc: 0.1880 - dense_3_acc_1: 0.4078 - dense_3_acc_2: 0.1806 - dense_3_acc_3: 0.0664 - dense_3_acc_4: 0.9136 - dense_3_acc_5: 0.0496 - dense_3_acc_6: 0.0096 - dense_3_acc_7: 0.8506 - dense_3_acc_8: 0.1186 - dense_3_acc_9: 0.05 - ETA: 14s - loss: 20.1134 - dense_3_loss: 2.7479 - dense_3_acc: 0.1986 - dense_3_acc_1: 0.4141 - dense_3_acc_2: 0.1845 - dense_3_acc_3: 0.0657 - dense_3_acc_4: 0.9153 - dense_3_acc_5: 0.0486 - dense_3_acc_6: 0.0094 - dense_3_acc_7: 0.8533 - dense_3_acc_8: 0.1222 - dense_3_acc_9: 0.06 - ETA: 14s - loss: 20.0535 - dense_3_loss: 2.7461 - dense_3_acc: 0.2077 - dense_3_acc_1: 0.4190 - dense_3_acc_2: 0.1856 - dense_3_acc_3: 0.0667 - dense_3_acc_4: 0.9169 - dense_3_acc_5: 0.0477 - dense_3_acc_6: 0.0092 - dense_3_acc_7: 0.8562 - dense_3_acc_8: 0.1210 - dense_3_acc_9: 0.06 - ETA: 14s - loss: 19.9929 - dense_3_loss: 2.7439 - dense_3_acc: 0.2168 - dense_3_acc_1: 0.4242 - dense_3_acc_2: 0.1877 - dense_3_acc_3: 0.0664 - dense_3_acc_4: 0.9185 - dense_3_acc_5: 0.0483 - dense_3_acc_6: 0.0092 - dense_3_acc_7: 0.8589 - dense_3_acc_8: 0.1228 - dense_3_acc_9: 0.06 - ETA: 13s - loss: 19.9319 - dense_3_loss: 2.7395 - dense_3_acc: 0.2239 - dense_3_acc_1: 0.4274 - dense_3_acc_2: 0.1909 - dense_3_acc_3: 0.0674 - dense_3_acc_4: 0.9200 - dense_3_acc_5: 0.0515 - dense_3_acc_6: 0.0100 - dense_3_acc_7: 0.8581 - dense_3_acc_8: 0.1298 - dense_3_acc_9: 0.06 - ETA: 13s - loss: 19.8658 - dense_3_loss: 2.7353 - dense_3_acc: 0.2329 - dense_3_acc_1: 0.4327 - dense_3_acc_2: 0.1956 - dense_3_acc_3: 0.0687 - dense_3_acc_4: 0.9215 - dense_3_acc_5: 0.0538 - dense_3_acc_6: 0.0102 - dense_3_acc_7: 0.8573 - dense_3_acc_8: 0.1333 - dense_3_acc_9: 0.06 - ETA: 12s - loss: 19.8031 - dense_3_loss: 2.7316 - dense_3_acc: 0.2398 - dense_3_acc_1: 0.4361 - dense_3_acc_2: 0.1982 - dense_3_acc_3: 0.0709 - dense_3_acc_4: 0.9229 - dense_3_acc_5: 0.0548 - dense_3_acc_6: 0.0107 - dense_3_acc_7: 0.8595 - dense_3_acc_8: 0.1355 - dense_3_acc_9: 0.06 - ETA: 12s - loss: 19.7428 - dense_3_loss: 2.7297 - dense_3_acc: 0.2468 - dense_3_acc_1: 0.4396 - dense_3_acc_2: 0.2018 - dense_3_acc_3: 0.0702 - dense_3_acc_4: 0.9242 - dense_3_acc_5: 0.0565 - dense_3_acc_6: 0.0105 - dense_3_acc_7: 0.8616 - dense_3_acc_8: 0.1396 - dense_3_acc_9: 0.0644"
     ]
    },
    {
     "name": "stdout",
     "output_type": "stream",
     "text": [
      " 8600/10000 [========================>.....] - ETA: 12s - loss: 19.6805 - dense_3_loss: 2.7289 - dense_3_acc: 0.2536 - dense_3_acc_1: 0.4431 - dense_3_acc_2: 0.2047 - dense_3_acc_3: 0.0709 - dense_3_acc_4: 0.9255 - dense_3_acc_5: 0.0598 - dense_3_acc_6: 0.0116 - dense_3_acc_7: 0.8640 - dense_3_acc_8: 0.1416 - dense_3_acc_9: 0.06 - ETA: 11s - loss: 19.6170 - dense_3_loss: 2.7253 - dense_3_acc: 0.2597 - dense_3_acc_1: 0.4459 - dense_3_acc_2: 0.2071 - dense_3_acc_3: 0.0715 - dense_3_acc_4: 0.9268 - dense_3_acc_5: 0.0654 - dense_3_acc_6: 0.0129 - dense_3_acc_7: 0.8663 - dense_3_acc_8: 0.1441 - dense_3_acc_9: 0.06 - ETA: 11s - loss: 19.5521 - dense_3_loss: 2.7212 - dense_3_acc: 0.2672 - dense_3_acc_1: 0.4503 - dense_3_acc_2: 0.2092 - dense_3_acc_3: 0.0718 - dense_3_acc_4: 0.9280 - dense_3_acc_5: 0.0775 - dense_3_acc_6: 0.0130 - dense_3_acc_7: 0.8675 - dense_3_acc_8: 0.1480 - dense_3_acc_9: 0.06 - ETA: 11s - loss: 19.4883 - dense_3_loss: 2.7159 - dense_3_acc: 0.2711 - dense_3_acc_1: 0.4513 - dense_3_acc_2: 0.2126 - dense_3_acc_3: 0.0713 - dense_3_acc_4: 0.9292 - dense_3_acc_5: 0.0903 - dense_3_acc_6: 0.0133 - dense_3_acc_7: 0.8697 - dense_3_acc_8: 0.1507 - dense_3_acc_9: 0.06 - ETA: 10s - loss: 19.4227 - dense_3_loss: 2.7127 - dense_3_acc: 0.2765 - dense_3_acc_1: 0.4537 - dense_3_acc_2: 0.2163 - dense_3_acc_3: 0.0715 - dense_3_acc_4: 0.9303 - dense_3_acc_5: 0.0974 - dense_3_acc_6: 0.0155 - dense_3_acc_7: 0.8718 - dense_3_acc_8: 0.1518 - dense_3_acc_9: 0.06 - ETA: 10s - loss: 19.3529 - dense_3_loss: 2.7074 - dense_3_acc: 0.2816 - dense_3_acc_1: 0.4560 - dense_3_acc_2: 0.2184 - dense_3_acc_3: 0.0703 - dense_3_acc_4: 0.9314 - dense_3_acc_5: 0.1081 - dense_3_acc_6: 0.0162 - dense_3_acc_7: 0.8738 - dense_3_acc_8: 0.1548 - dense_3_acc_9: 0.07 - ETA: 9s - loss: 19.2854 - dense_3_loss: 2.7017 - dense_3_acc: 0.2864 - dense_3_acc_1: 0.4583 - dense_3_acc_2: 0.2220 - dense_3_acc_3: 0.0692 - dense_3_acc_4: 0.9325 - dense_3_acc_5: 0.1214 - dense_3_acc_6: 0.0159 - dense_3_acc_7: 0.8758 - dense_3_acc_8: 0.1570 - dense_3_acc_9: 0.0711 - ETA: 9s - loss: 19.2114 - dense_3_loss: 2.6969 - dense_3_acc: 0.2918 - dense_3_acc_1: 0.4611 - dense_3_acc_2: 0.2252 - dense_3_acc_3: 0.0700 - dense_3_acc_4: 0.9335 - dense_3_acc_5: 0.1329 - dense_3_acc_6: 0.0174 - dense_3_acc_7: 0.8777 - dense_3_acc_8: 0.1585 - dense_3_acc_9: 0.071 - ETA: 9s - loss: 19.1362 - dense_3_loss: 2.6910 - dense_3_acc: 0.2964 - dense_3_acc_1: 0.4673 - dense_3_acc_2: 0.2283 - dense_3_acc_3: 0.0698 - dense_3_acc_4: 0.9345 - dense_3_acc_5: 0.1420 - dense_3_acc_6: 0.0182 - dense_3_acc_7: 0.8795 - dense_3_acc_8: 0.1624 - dense_3_acc_9: 0.071 - ETA: 8s - loss: 19.0626 - dense_3_loss: 2.6855 - dense_3_acc: 0.3012 - dense_3_acc_1: 0.4730 - dense_3_acc_2: 0.2301 - dense_3_acc_3: 0.0696 - dense_3_acc_4: 0.9355 - dense_3_acc_5: 0.1494 - dense_3_acc_6: 0.0193 - dense_3_acc_7: 0.8813 - dense_3_acc_8: 0.1652 - dense_3_acc_9: 0.072 - ETA: 8s - loss: 18.9829 - dense_3_loss: 2.6807 - dense_3_acc: 0.3062 - dense_3_acc_1: 0.4766 - dense_3_acc_2: 0.2325 - dense_3_acc_3: 0.0701 - dense_3_acc_4: 0.9365 - dense_3_acc_5: 0.1581 - dense_3_acc_6: 0.0204 - dense_3_acc_7: 0.8831 - dense_3_acc_8: 0.1681 - dense_3_acc_9: 0.072 - ETA: 8s - loss: 18.9088 - dense_3_loss: 2.6763 - dense_3_acc: 0.3113 - dense_3_acc_1: 0.4804 - dense_3_acc_2: 0.2341 - dense_3_acc_3: 0.0700 - dense_3_acc_4: 0.9374 - dense_3_acc_5: 0.1690 - dense_3_acc_6: 0.0209 - dense_3_acc_7: 0.8848 - dense_3_acc_8: 0.1717 - dense_3_acc_9: 0.073 - ETA: 8s - loss: 18.8281 - dense_3_loss: 2.6721 - dense_3_acc: 0.3154 - dense_3_acc_1: 0.4851 - dense_3_acc_2: 0.2363 - dense_3_acc_3: 0.0703 - dense_3_acc_4: 0.9383 - dense_3_acc_5: 0.1799 - dense_3_acc_6: 0.0216 - dense_3_acc_7: 0.8864 - dense_3_acc_8: 0.1746 - dense_3_acc_9: 0.073 - ETA: 7s - loss: 18.7452 - dense_3_loss: 2.6674 - dense_3_acc: 0.3207 - dense_3_acc_1: 0.4914 - dense_3_acc_2: 0.2383 - dense_3_acc_3: 0.0707 - dense_3_acc_4: 0.9392 - dense_3_acc_5: 0.1885 - dense_3_acc_6: 0.0223 - dense_3_acc_7: 0.8880 - dense_3_acc_8: 0.1769 - dense_3_acc_9: 0.074 - ETA: 7s - loss: 18.6657 - dense_3_loss: 2.6636 - dense_3_acc: 0.3256 - dense_3_acc_1: 0.4975 - dense_3_acc_2: 0.2400 - dense_3_acc_3: 0.0714 - dense_3_acc_4: 0.9400 - dense_3_acc_5: 0.1947 - dense_3_acc_6: 0.0233 - dense_3_acc_7: 0.8896 - dense_3_acc_8: 0.1796 - dense_3_acc_9: 0.075 - ETA: 7s - loss: 18.5807 - dense_3_loss: 2.6582 - dense_3_acc: 0.3300 - dense_3_acc_1: 0.5034 - dense_3_acc_2: 0.2422 - dense_3_acc_3: 0.0714 - dense_3_acc_4: 0.9408 - dense_3_acc_5: 0.2045 - dense_3_acc_6: 0.0245 - dense_3_acc_7: 0.8911 - dense_3_acc_8: 0.1804 - dense_3_acc_9: 0.076 - ETA: 6s - loss: 18.5003 - dense_3_loss: 2.6536 - dense_3_acc: 0.3342 - dense_3_acc_1: 0.5085 - dense_3_acc_2: 0.2427 - dense_3_acc_3: 0.0726 - dense_3_acc_4: 0.9416 - dense_3_acc_5: 0.2143 - dense_3_acc_6: 0.0250 - dense_3_acc_7: 0.8926 - dense_3_acc_8: 0.1826 - dense_3_acc_9: 0.076 - ETA: 6s - loss: 18.4203 - dense_3_loss: 2.6501 - dense_3_acc: 0.3380 - dense_3_acc_1: 0.5136 - dense_3_acc_2: 0.2449 - dense_3_acc_3: 0.0736 - dense_3_acc_4: 0.9424 - dense_3_acc_5: 0.2231 - dense_3_acc_6: 0.0261 - dense_3_acc_7: 0.8940 - dense_3_acc_8: 0.1844 - dense_3_acc_9: 0.077 - ETA: 6s - loss: 18.3359 - dense_3_loss: 2.6456 - dense_3_acc: 0.3421 - dense_3_acc_1: 0.5188 - dense_3_acc_2: 0.2479 - dense_3_acc_3: 0.0743 - dense_3_acc_4: 0.9432 - dense_3_acc_5: 0.2317 - dense_3_acc_6: 0.0268 - dense_3_acc_7: 0.8954 - dense_3_acc_8: 0.1868 - dense_3_acc_9: 0.078 - ETA: 5s - loss: 18.2550 - dense_3_loss: 2.6414 - dense_3_acc: 0.3462 - dense_3_acc_1: 0.5239 - dense_3_acc_2: 0.2497 - dense_3_acc_3: 0.0742 - dense_3_acc_4: 0.9439 - dense_3_acc_5: 0.2396 - dense_3_acc_6: 0.0275 - dense_3_acc_7: 0.8968 - dense_3_acc_8: 0.1894 - dense_3_acc_9: 0.079 - ETA: 5s - loss: 18.1710 - dense_3_loss: 2.6357 - dense_3_acc: 0.3508 - dense_3_acc_1: 0.5290 - dense_3_acc_2: 0.2518 - dense_3_acc_3: 0.0742 - dense_3_acc_4: 0.9446 - dense_3_acc_5: 0.2468 - dense_3_acc_6: 0.0295 - dense_3_acc_7: 0.8981 - dense_3_acc_8: 0.1914 - dense_3_acc_9: 0.080 - ETA: 5s - loss: 18.0908 - dense_3_loss: 2.6306 - dense_3_acc: 0.3541 - dense_3_acc_1: 0.5330 - dense_3_acc_2: 0.2544 - dense_3_acc_3: 0.0754 - dense_3_acc_4: 0.9453 - dense_3_acc_5: 0.2547 - dense_3_acc_6: 0.0306 - dense_3_acc_7: 0.8994 - dense_3_acc_8: 0.1935 - dense_3_acc_9: 0.082 - ETA: 5s - loss: 18.0134 - dense_3_loss: 2.6260 - dense_3_acc: 0.3561 - dense_3_acc_1: 0.5373 - dense_3_acc_2: 0.2559 - dense_3_acc_3: 0.0772 - dense_3_acc_4: 0.9460 - dense_3_acc_5: 0.2621 - dense_3_acc_6: 0.0314 - dense_3_acc_7: 0.9006 - dense_3_acc_8: 0.1954 - dense_3_acc_9: 0.083 - ETA: 4s - loss: 17.9368 - dense_3_loss: 2.6226 - dense_3_acc: 0.3590 - dense_3_acc_1: 0.5421 - dense_3_acc_2: 0.2586 - dense_3_acc_3: 0.0781 - dense_3_acc_4: 0.9467 - dense_3_acc_5: 0.2686 - dense_3_acc_6: 0.0335 - dense_3_acc_7: 0.9019 - dense_3_acc_8: 0.1974 - dense_3_acc_9: 0.083 - ETA: 4s - loss: 17.8592 - dense_3_loss: 2.6183 - dense_3_acc: 0.3623 - dense_3_acc_1: 0.5472 - dense_3_acc_2: 0.2609 - dense_3_acc_3: 0.0788 - dense_3_acc_4: 0.9473 - dense_3_acc_5: 0.2762 - dense_3_acc_6: 0.0362 - dense_3_acc_7: 0.9030 - dense_3_acc_8: 0.2000 - dense_3_acc_9: 0.084 - ETA: 4s - loss: 17.7787 - dense_3_loss: 2.6140 - dense_3_acc: 0.3652 - dense_3_acc_1: 0.5514 - dense_3_acc_2: 0.2637 - dense_3_acc_3: 0.0804 - dense_3_acc_4: 0.9480 - dense_3_acc_5: 0.2835 - dense_3_acc_6: 0.0390 - dense_3_acc_7: 0.9042 - dense_3_acc_8: 0.2024 - dense_3_acc_9: 0.084 - ETA: 4s - loss: 17.7040 - dense_3_loss: 2.6100 - dense_3_acc: 0.3677 - dense_3_acc_1: 0.5552 - dense_3_acc_2: 0.2658 - dense_3_acc_3: 0.0806 - dense_3_acc_4: 0.9486 - dense_3_acc_5: 0.2902 - dense_3_acc_6: 0.0412 - dense_3_acc_7: 0.9054 - dense_3_acc_8: 0.2042 - dense_3_acc_9: 0.085 - ETA: 3s - loss: 17.6276 - dense_3_loss: 2.6072 - dense_3_acc: 0.3711 - dense_3_acc_1: 0.5595 - dense_3_acc_2: 0.2680 - dense_3_acc_3: 0.0811 - dense_3_acc_4: 0.9492 - dense_3_acc_5: 0.2973 - dense_3_acc_6: 0.0431 - dense_3_acc_7: 0.9065 - dense_3_acc_8: 0.2064 - dense_3_acc_9: 0.086 - ETA: 3s - loss: 17.5530 - dense_3_loss: 2.6032 - dense_3_acc: 0.3742 - dense_3_acc_1: 0.5642 - dense_3_acc_2: 0.2692 - dense_3_acc_3: 0.0816 - dense_3_acc_4: 0.9498 - dense_3_acc_5: 0.3031 - dense_3_acc_6: 0.0448 - dense_3_acc_7: 0.9076 - dense_3_acc_8: 0.2081 - dense_3_acc_9: 0.0876"
     ]
    },
    {
     "name": "stdout",
     "output_type": "stream",
     "text": [
      "10000/10000 [==============================] - ETA: 3s - loss: 17.4813 - dense_3_loss: 2.6001 - dense_3_acc: 0.3764 - dense_3_acc_1: 0.5683 - dense_3_acc_2: 0.2710 - dense_3_acc_3: 0.0820 - dense_3_acc_4: 0.9503 - dense_3_acc_5: 0.3091 - dense_3_acc_6: 0.0464 - dense_3_acc_7: 0.9086 - dense_3_acc_8: 0.2102 - dense_3_acc_9: 0.088 - ETA: 3s - loss: 17.4073 - dense_3_loss: 2.5963 - dense_3_acc: 0.3794 - dense_3_acc_1: 0.5730 - dense_3_acc_2: 0.2732 - dense_3_acc_3: 0.0824 - dense_3_acc_4: 0.9509 - dense_3_acc_5: 0.3157 - dense_3_acc_6: 0.0481 - dense_3_acc_7: 0.9097 - dense_3_acc_8: 0.2122 - dense_3_acc_9: 0.088 - ETA: 2s - loss: 17.3343 - dense_3_loss: 2.5924 - dense_3_acc: 0.3815 - dense_3_acc_1: 0.5771 - dense_3_acc_2: 0.2749 - dense_3_acc_3: 0.0829 - dense_3_acc_4: 0.9515 - dense_3_acc_5: 0.3219 - dense_3_acc_6: 0.0494 - dense_3_acc_7: 0.9107 - dense_3_acc_8: 0.2136 - dense_3_acc_9: 0.089 - ETA: 2s - loss: 17.2638 - dense_3_loss: 2.5888 - dense_3_acc: 0.3844 - dense_3_acc_1: 0.5813 - dense_3_acc_2: 0.2771 - dense_3_acc_3: 0.0831 - dense_3_acc_4: 0.9520 - dense_3_acc_5: 0.3290 - dense_3_acc_6: 0.0518 - dense_3_acc_7: 0.9117 - dense_3_acc_8: 0.2151 - dense_3_acc_9: 0.090 - ETA: 2s - loss: 17.1922 - dense_3_loss: 2.5847 - dense_3_acc: 0.3873 - dense_3_acc_1: 0.5856 - dense_3_acc_2: 0.2793 - dense_3_acc_3: 0.0829 - dense_3_acc_4: 0.9525 - dense_3_acc_5: 0.3351 - dense_3_acc_6: 0.0534 - dense_3_acc_7: 0.9126 - dense_3_acc_8: 0.2167 - dense_3_acc_9: 0.090 - ETA: 1s - loss: 17.1215 - dense_3_loss: 2.5814 - dense_3_acc: 0.3901 - dense_3_acc_1: 0.5897 - dense_3_acc_2: 0.2808 - dense_3_acc_3: 0.0838 - dense_3_acc_4: 0.9530 - dense_3_acc_5: 0.3410 - dense_3_acc_6: 0.0553 - dense_3_acc_7: 0.9136 - dense_3_acc_8: 0.2187 - dense_3_acc_9: 0.091 - ETA: 1s - loss: 17.0545 - dense_3_loss: 2.5779 - dense_3_acc: 0.3928 - dense_3_acc_1: 0.5937 - dense_3_acc_2: 0.2813 - dense_3_acc_3: 0.0842 - dense_3_acc_4: 0.9535 - dense_3_acc_5: 0.3472 - dense_3_acc_6: 0.0562 - dense_3_acc_7: 0.9145 - dense_3_acc_8: 0.2195 - dense_3_acc_9: 0.091 - ETA: 1s - loss: 16.9863 - dense_3_loss: 2.5756 - dense_3_acc: 0.3960 - dense_3_acc_1: 0.5972 - dense_3_acc_2: 0.2823 - dense_3_acc_3: 0.0846 - dense_3_acc_4: 0.9540 - dense_3_acc_5: 0.3531 - dense_3_acc_6: 0.0578 - dense_3_acc_7: 0.9154 - dense_3_acc_8: 0.2217 - dense_3_acc_9: 0.092 - ETA: 1s - loss: 16.9181 - dense_3_loss: 2.5721 - dense_3_acc: 0.3983 - dense_3_acc_1: 0.6006 - dense_3_acc_2: 0.2841 - dense_3_acc_3: 0.0857 - dense_3_acc_4: 0.9545 - dense_3_acc_5: 0.3593 - dense_3_acc_6: 0.0596 - dense_3_acc_7: 0.9163 - dense_3_acc_8: 0.2235 - dense_3_acc_9: 0.093 - ETA: 0s - loss: 16.8516 - dense_3_loss: 2.5691 - dense_3_acc: 0.4005 - dense_3_acc_1: 0.6041 - dense_3_acc_2: 0.2868 - dense_3_acc_3: 0.0862 - dense_3_acc_4: 0.9550 - dense_3_acc_5: 0.3648 - dense_3_acc_6: 0.0617 - dense_3_acc_7: 0.9172 - dense_3_acc_8: 0.2254 - dense_3_acc_9: 0.094 - ETA: 0s - loss: 16.7857 - dense_3_loss: 2.5662 - dense_3_acc: 0.4031 - dense_3_acc_1: 0.6076 - dense_3_acc_2: 0.2886 - dense_3_acc_3: 0.0865 - dense_3_acc_4: 0.9555 - dense_3_acc_5: 0.3710 - dense_3_acc_6: 0.0640 - dense_3_acc_7: 0.9180 - dense_3_acc_8: 0.2277 - dense_3_acc_9: 0.094 - ETA: 0s - loss: 16.7198 - dense_3_loss: 2.5627 - dense_3_acc: 0.4066 - dense_3_acc_1: 0.6112 - dense_3_acc_2: 0.2904 - dense_3_acc_3: 0.0868 - dense_3_acc_4: 0.9559 - dense_3_acc_5: 0.3769 - dense_3_acc_6: 0.0660 - dense_3_acc_7: 0.9189 - dense_3_acc_8: 0.2292 - dense_3_acc_9: 0.095 - ETA: 0s - loss: 16.6593 - dense_3_loss: 2.5594 - dense_3_acc: 0.4088 - dense_3_acc_1: 0.6143 - dense_3_acc_2: 0.2918 - dense_3_acc_3: 0.0874 - dense_3_acc_4: 0.9564 - dense_3_acc_5: 0.3827 - dense_3_acc_6: 0.0679 - dense_3_acc_7: 0.9197 - dense_3_acc_8: 0.2302 - dense_3_acc_9: 0.096 - 24s 2ms/step - loss: 16.5990 - dense_3_loss: 2.5572 - dense_3_acc: 0.4113 - dense_3_acc_1: 0.6172 - dense_3_acc_2: 0.2939 - dense_3_acc_3: 0.0879 - dense_3_acc_4: 0.9568 - dense_3_acc_5: 0.3877 - dense_3_acc_6: 0.0693 - dense_3_acc_7: 0.9205 - dense_3_acc_8: 0.2323 - dense_3_acc_9: 0.0972\n"
     ]
    },
    {
     "data": {
      "text/plain": [
       "<keras.callbacks.History at 0x22193b27cc0>"
      ]
     },
     "execution_count": 16,
     "metadata": {},
     "output_type": "execute_result"
    }
   ],
   "source": [
    "model.fit([Xoh, s0, c0], outputs, epochs=1, batch_size=100)"
   ]
  },
  {
   "cell_type": "markdown",
   "metadata": {},
   "source": [
    "While training you can see the loss as well as the accuracy on each of the 10 positions of the output. The table below gives you an example of what the accuracies could be if the batch had 2 examples: \n",
    "\n",
    "<img src=\"images/table.png\" style=\"width:700;height:200px;\"> <br>\n",
    "<caption><center>Thus, `dense_2_acc_8: 0.89` means that you are predicting the 7th character of the output correctly 89% of the time in the current batch of data. </center></caption>\n",
    "\n",
    "\n",
    "We have run this model for longer, and saved the weights. Run the next cell to load our weights. (By training a model for several minutes, you should be able to obtain a model of similar accuracy, but loading our model will save you time.) "
   ]
  },
  {
   "cell_type": "code",
   "execution_count": 17,
   "metadata": {},
   "outputs": [
    {
     "ename": "OSError",
     "evalue": "Unable to open file (unable to open file: name = 'models/model.h5', errno = 2, error message = 'No such file or directory', flags = 0, o_flags = 0)",
     "output_type": "error",
     "traceback": [
      "\u001b[1;31m---------------------------------------------------------------------------\u001b[0m",
      "\u001b[1;31mOSError\u001b[0m                                   Traceback (most recent call last)",
      "\u001b[1;32m<ipython-input-17-5adfa8e1d454>\u001b[0m in \u001b[0;36m<module>\u001b[1;34m()\u001b[0m\n\u001b[1;32m----> 1\u001b[1;33m \u001b[0mmodel\u001b[0m\u001b[1;33m.\u001b[0m\u001b[0mload_weights\u001b[0m\u001b[1;33m(\u001b[0m\u001b[1;34m'models/model.h5'\u001b[0m\u001b[1;33m)\u001b[0m\u001b[1;33m\u001b[0m\u001b[0m\n\u001b[0m",
      "\u001b[1;32mD:\\Anaconda\\lib\\site-packages\\keras\\engine\\topology.py\u001b[0m in \u001b[0;36mload_weights\u001b[1;34m(self, filepath, by_name, skip_mismatch, reshape)\u001b[0m\n\u001b[0;32m   2645\u001b[0m         \u001b[1;32mif\u001b[0m \u001b[0mh5py\u001b[0m \u001b[1;32mis\u001b[0m \u001b[1;32mNone\u001b[0m\u001b[1;33m:\u001b[0m\u001b[1;33m\u001b[0m\u001b[0m\n\u001b[0;32m   2646\u001b[0m             \u001b[1;32mraise\u001b[0m \u001b[0mImportError\u001b[0m\u001b[1;33m(\u001b[0m\u001b[1;34m'`load_weights` requires h5py.'\u001b[0m\u001b[1;33m)\u001b[0m\u001b[1;33m\u001b[0m\u001b[0m\n\u001b[1;32m-> 2647\u001b[1;33m         \u001b[1;32mwith\u001b[0m \u001b[0mh5py\u001b[0m\u001b[1;33m.\u001b[0m\u001b[0mFile\u001b[0m\u001b[1;33m(\u001b[0m\u001b[0mfilepath\u001b[0m\u001b[1;33m,\u001b[0m \u001b[0mmode\u001b[0m\u001b[1;33m=\u001b[0m\u001b[1;34m'r'\u001b[0m\u001b[1;33m)\u001b[0m \u001b[1;32mas\u001b[0m \u001b[0mf\u001b[0m\u001b[1;33m:\u001b[0m\u001b[1;33m\u001b[0m\u001b[0m\n\u001b[0m\u001b[0;32m   2648\u001b[0m             \u001b[1;32mif\u001b[0m \u001b[1;34m'layer_names'\u001b[0m \u001b[1;32mnot\u001b[0m \u001b[1;32min\u001b[0m \u001b[0mf\u001b[0m\u001b[1;33m.\u001b[0m\u001b[0mattrs\u001b[0m \u001b[1;32mand\u001b[0m \u001b[1;34m'model_weights'\u001b[0m \u001b[1;32min\u001b[0m \u001b[0mf\u001b[0m\u001b[1;33m:\u001b[0m\u001b[1;33m\u001b[0m\u001b[0m\n\u001b[0;32m   2649\u001b[0m                 \u001b[0mf\u001b[0m \u001b[1;33m=\u001b[0m \u001b[0mf\u001b[0m\u001b[1;33m[\u001b[0m\u001b[1;34m'model_weights'\u001b[0m\u001b[1;33m]\u001b[0m\u001b[1;33m\u001b[0m\u001b[0m\n",
      "\u001b[1;32mD:\\Anaconda\\lib\\site-packages\\h5py\\_hl\\files.py\u001b[0m in \u001b[0;36m__init__\u001b[1;34m(self, name, mode, driver, libver, userblock_size, swmr, **kwds)\u001b[0m\n\u001b[0;32m    267\u001b[0m             \u001b[1;32mwith\u001b[0m \u001b[0mphil\u001b[0m\u001b[1;33m:\u001b[0m\u001b[1;33m\u001b[0m\u001b[0m\n\u001b[0;32m    268\u001b[0m                 \u001b[0mfapl\u001b[0m \u001b[1;33m=\u001b[0m \u001b[0mmake_fapl\u001b[0m\u001b[1;33m(\u001b[0m\u001b[0mdriver\u001b[0m\u001b[1;33m,\u001b[0m \u001b[0mlibver\u001b[0m\u001b[1;33m,\u001b[0m \u001b[1;33m**\u001b[0m\u001b[0mkwds\u001b[0m\u001b[1;33m)\u001b[0m\u001b[1;33m\u001b[0m\u001b[0m\n\u001b[1;32m--> 269\u001b[1;33m                 \u001b[0mfid\u001b[0m \u001b[1;33m=\u001b[0m \u001b[0mmake_fid\u001b[0m\u001b[1;33m(\u001b[0m\u001b[0mname\u001b[0m\u001b[1;33m,\u001b[0m \u001b[0mmode\u001b[0m\u001b[1;33m,\u001b[0m \u001b[0muserblock_size\u001b[0m\u001b[1;33m,\u001b[0m \u001b[0mfapl\u001b[0m\u001b[1;33m,\u001b[0m \u001b[0mswmr\u001b[0m\u001b[1;33m=\u001b[0m\u001b[0mswmr\u001b[0m\u001b[1;33m)\u001b[0m\u001b[1;33m\u001b[0m\u001b[0m\n\u001b[0m\u001b[0;32m    270\u001b[0m \u001b[1;33m\u001b[0m\u001b[0m\n\u001b[0;32m    271\u001b[0m                 \u001b[1;32mif\u001b[0m \u001b[0mswmr_support\u001b[0m\u001b[1;33m:\u001b[0m\u001b[1;33m\u001b[0m\u001b[0m\n",
      "\u001b[1;32mD:\\Anaconda\\lib\\site-packages\\h5py\\_hl\\files.py\u001b[0m in \u001b[0;36mmake_fid\u001b[1;34m(name, mode, userblock_size, fapl, fcpl, swmr)\u001b[0m\n\u001b[0;32m     97\u001b[0m         \u001b[1;32mif\u001b[0m \u001b[0mswmr\u001b[0m \u001b[1;32mand\u001b[0m \u001b[0mswmr_support\u001b[0m\u001b[1;33m:\u001b[0m\u001b[1;33m\u001b[0m\u001b[0m\n\u001b[0;32m     98\u001b[0m             \u001b[0mflags\u001b[0m \u001b[1;33m|=\u001b[0m \u001b[0mh5f\u001b[0m\u001b[1;33m.\u001b[0m\u001b[0mACC_SWMR_READ\u001b[0m\u001b[1;33m\u001b[0m\u001b[0m\n\u001b[1;32m---> 99\u001b[1;33m         \u001b[0mfid\u001b[0m \u001b[1;33m=\u001b[0m \u001b[0mh5f\u001b[0m\u001b[1;33m.\u001b[0m\u001b[0mopen\u001b[0m\u001b[1;33m(\u001b[0m\u001b[0mname\u001b[0m\u001b[1;33m,\u001b[0m \u001b[0mflags\u001b[0m\u001b[1;33m,\u001b[0m \u001b[0mfapl\u001b[0m\u001b[1;33m=\u001b[0m\u001b[0mfapl\u001b[0m\u001b[1;33m)\u001b[0m\u001b[1;33m\u001b[0m\u001b[0m\n\u001b[0m\u001b[0;32m    100\u001b[0m     \u001b[1;32melif\u001b[0m \u001b[0mmode\u001b[0m \u001b[1;33m==\u001b[0m \u001b[1;34m'r+'\u001b[0m\u001b[1;33m:\u001b[0m\u001b[1;33m\u001b[0m\u001b[0m\n\u001b[0;32m    101\u001b[0m         \u001b[0mfid\u001b[0m \u001b[1;33m=\u001b[0m \u001b[0mh5f\u001b[0m\u001b[1;33m.\u001b[0m\u001b[0mopen\u001b[0m\u001b[1;33m(\u001b[0m\u001b[0mname\u001b[0m\u001b[1;33m,\u001b[0m \u001b[0mh5f\u001b[0m\u001b[1;33m.\u001b[0m\u001b[0mACC_RDWR\u001b[0m\u001b[1;33m,\u001b[0m \u001b[0mfapl\u001b[0m\u001b[1;33m=\u001b[0m\u001b[0mfapl\u001b[0m\u001b[1;33m)\u001b[0m\u001b[1;33m\u001b[0m\u001b[0m\n",
      "\u001b[1;32mh5py\\_objects.pyx\u001b[0m in \u001b[0;36mh5py._objects.with_phil.wrapper\u001b[1;34m()\u001b[0m\n",
      "\u001b[1;32mh5py\\_objects.pyx\u001b[0m in \u001b[0;36mh5py._objects.with_phil.wrapper\u001b[1;34m()\u001b[0m\n",
      "\u001b[1;32mh5py\\h5f.pyx\u001b[0m in \u001b[0;36mh5py.h5f.open\u001b[1;34m()\u001b[0m\n",
      "\u001b[1;31mOSError\u001b[0m: Unable to open file (unable to open file: name = 'models/model.h5', errno = 2, error message = 'No such file or directory', flags = 0, o_flags = 0)"
     ]
    }
   ],
   "source": [
    "model.load_weights('models/model.h5')"
   ]
  },
  {
   "cell_type": "markdown",
   "metadata": {},
   "source": [
    "You can now see the results on new examples."
   ]
  },
  {
   "cell_type": "code",
   "execution_count": null,
   "metadata": {},
   "outputs": [],
   "source": [
    "EXAMPLES = ['3 May 1979', '5 April 09', '21th of August 2016', 'Tue 10 Jul 2007', 'Saturday May 9 2018', 'March 3 2001', 'March 3rd 2001', '1 March 2001']\n",
    "for example in EXAMPLES:\n",
    "    \n",
    "    source = string_to_int(example, Tx, human_vocab)\n",
    "    source = np.array(list(map(lambda x: to_categorical(x, num_classes=len(human_vocab)), source))).swapaxes(0,1)\n",
    "    prediction = model.predict([source, s0, c0])\n",
    "    prediction = np.argmax(prediction, axis = -1)\n",
    "    output = [inv_machine_vocab[int(i)] for i in prediction]\n",
    "    \n",
    "    print(\"source:\", example)\n",
    "    print(\"output:\", ''.join(output))"
   ]
  },
  {
   "cell_type": "markdown",
   "metadata": {},
   "source": [
    "You can also change these examples to test with your own examples. The next part will give you a better sense on what the attention mechanism is doing--i.e., what part of the input the network is paying attention to when generating a particular output character. "
   ]
  },
  {
   "cell_type": "markdown",
   "metadata": {},
   "source": [
    "## 3 - Visualizing Attention (Optional / Ungraded)\n",
    "\n",
    "Since the problem has a fixed output length of 10, it is also possible to carry out this task using 10 different softmax units to generate the 10 characters of the output. But one advantage of the attention model is that each part of the output (say the month) knows it needs to depend only on a small part of the input (the characters in the input giving the month). We can  visualize what part of the output is looking at what part of the input.\n",
    "\n",
    "Consider the task of translating \"Saturday 9 May 2018\" to \"2018-05-09\". If we visualize the computed $\\alpha^{\\langle t, t' \\rangle}$ we get this: \n",
    "\n",
    "<img src=\"images/date_attention.png\" style=\"width:600;height:300px;\"> <br>\n",
    "<caption><center> **Figure 8**: Full Attention Map</center></caption>\n",
    "\n",
    "Notice how the output ignores the \"Saturday\" portion of the input. None of the output timesteps are paying much attention to that portion of the input. We see also that 9 has been translated as 09 and May has been correctly translated into 05, with the output paying attention to the parts of the input it needs to to make the translation. The year mostly requires it to pay attention to the input's \"18\" in order to generate \"2018.\" \n",
    "\n"
   ]
  },
  {
   "cell_type": "markdown",
   "metadata": {},
   "source": [
    "### 3.1 - Getting the activations from the network\n",
    "\n",
    "Lets now visualize the attention values in your network. We'll propagate an example through the network, then visualize the values of $\\alpha^{\\langle t, t' \\rangle}$. \n",
    "\n",
    "To figure out where the attention values are located, let's start by printing a summary of the model ."
   ]
  },
  {
   "cell_type": "code",
   "execution_count": null,
   "metadata": {
    "collapsed": true
   },
   "outputs": [],
   "source": [
    "model.summary()"
   ]
  },
  {
   "cell_type": "markdown",
   "metadata": {},
   "source": [
    "Navigate through the output of `model.summary()` above. You can see that the layer named `attention_weights` outputs the `alphas` of shape (m, 30, 1) before `dot_2` computes the context vector for every time step $t = 0, \\ldots, T_y-1$. Lets get the activations from this layer.\n",
    "\n",
    "The function `attention_map()` pulls out the attention values from your model and plots them."
   ]
  },
  {
   "cell_type": "code",
   "execution_count": null,
   "metadata": {
    "collapsed": true,
    "scrolled": false
   },
   "outputs": [],
   "source": [
    "attention_map = plot_attention_map(model, human_vocab, inv_machine_vocab, \"Tuesday 09 Oct 1993\", num = 7, n_s = 64)"
   ]
  },
  {
   "cell_type": "markdown",
   "metadata": {},
   "source": [
    "On the generated plot you can observe the values of the attention weights for each character of the predicted output. Examine this plot and check that where the network is paying attention makes sense to you.\n",
    "\n",
    "In the date translation application, you will observe that most of the time attention helps predict the year, and hasn't much impact on predicting the day/month."
   ]
  },
  {
   "cell_type": "markdown",
   "metadata": {},
   "source": [
    "### Congratulations!\n",
    "\n",
    "\n",
    "You have come to the end of this assignment \n",
    "\n",
    "<font color='blue'> **Here's what you should remember from this notebook**:\n",
    "\n",
    "- Machine translation models can be used to map from one sequence to another. They are useful not just for translating human languages (like French->English) but also for tasks like date format translation. \n",
    "- An attention mechanism allows a network to focus on the most relevant parts of the input when producing a specific part of the output. \n",
    "- A network using an attention mechanism can translate from inputs of length $T_x$ to outputs of length $T_y$, where $T_x$ and $T_y$ can be different. \n",
    "- You can visualize attention weights $\\alpha^{\\langle t,t' \\rangle}$ to see what the network is paying attention to while generating each output."
   ]
  },
  {
   "cell_type": "markdown",
   "metadata": {},
   "source": [
    "Congratulations on finishing this assignment! You are now able to implement an attention model and use it to learn complex mappings from one sequence to another. "
   ]
  }
 ],
 "metadata": {
  "coursera": {
   "course_slug": "nlp-sequence-models",
   "graded_item_id": "n16CQ",
   "launcher_item_id": "npjGi"
  },
  "kernelspec": {
   "display_name": "Python 3",
   "language": "python",
   "name": "python3"
  },
  "language_info": {
   "codemirror_mode": {
    "name": "ipython",
    "version": 3
   },
   "file_extension": ".py",
   "mimetype": "text/x-python",
   "name": "python",
   "nbconvert_exporter": "python",
   "pygments_lexer": "ipython3",
   "version": "3.6.4"
  }
 },
 "nbformat": 4,
 "nbformat_minor": 2
}
