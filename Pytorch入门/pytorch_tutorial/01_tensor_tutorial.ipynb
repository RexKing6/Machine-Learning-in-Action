{
 "cells": [
  {
   "cell_type": "markdown",
   "metadata": {},
   "source": [
    "\n",
    "PyTorch 是什么？\n",
    "================\n",
    "\n",
    "它是一个基于 Python 的科学计算包, 其主要是为了解决两类场景:\n",
    "\n",
    "-  NumPy 的替代品, 以使用 GPU 的强大加速功能\n",
    "-  一个深度学习研究平台, 提供最大的灵活性和速度\n",
    "\n",
    "新手入门\n",
    "---------------\n",
    "\n",
    "### Tensors（张量）\n",
    "\n",
    "\n",
    "Tensors 与 NumPy 的 ndarrays 非常相似, 除此之外还可以在 GPU 上使用张量来加速计算.\n",
    "\n"
   ]
  },
  {
   "cell_type": "code",
   "execution_count": 7,
   "metadata": {},
   "outputs": [],
   "source": [
    "from __future__ import print_function\n",
    "import torch"
   ]
  },
  {
   "cell_type": "markdown",
   "metadata": {},
   "source": [
    "构建一个 5x3 的矩阵, 未初始化的:"
   ]
  },
  {
   "cell_type": "code",
   "execution_count": 15,
   "metadata": {},
   "outputs": [
    {
     "name": "stdout",
     "output_type": "stream",
     "text": [
      "\n",
      "1.00000e-09 *\n",
      "  6.8226  0.0000  0.0000\n",
      "  0.0000  0.0000  0.0000\n",
      "  0.0000  0.0000  0.0000\n",
      "  0.0000  0.0000  0.0000\n",
      "  0.0000  0.0000  0.0000\n",
      "[torch.FloatTensor of size 5x3]\n",
      "\n"
     ]
    }
   ],
   "source": [
    "x = torch.Tensor(5, 3)\n",
    "print(x)"
   ]
  },
  {
   "cell_type": "markdown",
   "metadata": {},
   "source": [
    "构建一个随机初始化的矩阵:\n",
    "\n"
   ]
  },
  {
   "cell_type": "code",
   "execution_count": 16,
   "metadata": {},
   "outputs": [
    {
     "name": "stdout",
     "output_type": "stream",
     "text": [
      "\n",
      " 0.7946  0.4152  0.5936\n",
      " 0.5300  0.7720  0.4158\n",
      " 0.5230  0.5131  0.8357\n",
      " 0.6032  0.9464  0.3276\n",
      " 0.9882  0.0978  0.9524\n",
      "[torch.FloatTensor of size 5x3]\n",
      "\n"
     ]
    }
   ],
   "source": [
    "x = torch.rand(5, 3)\n",
    "print(x)"
   ]
  },
  {
   "cell_type": "markdown",
   "metadata": {},
   "source": [
    "获得 size:\n",
    "\n"
   ]
  },
  {
   "cell_type": "code",
   "execution_count": 17,
   "metadata": {},
   "outputs": [
    {
     "name": "stdout",
     "output_type": "stream",
     "text": [
      "torch.Size([5, 3])\n"
     ]
    }
   ],
   "source": [
    "print(x.size())"
   ]
  },
  {
   "cell_type": "markdown",
   "metadata": {},
   "source": [
    "`torch.Size`实际上是一个 tuple（元组）, 所以它支持所有 tuple（元组）的操作.\n",
    "\n",
    "\n",
    "### 操作\n",
    "\n",
    "针对操作有许多语法.\n",
    "在下面的例子中, 我们来看看加法运算.\n",
    "\n",
    "加法: 语法 1\n",
    "\n"
   ]
  },
  {
   "cell_type": "code",
   "execution_count": 18,
   "metadata": {},
   "outputs": [
    {
     "name": "stdout",
     "output_type": "stream",
     "text": [
      "\n",
      " 1.0649  1.1914  1.5522\n",
      " 0.8977  1.1671  0.6357\n",
      " 1.1956  1.3373  0.9209\n",
      " 1.2475  1.2583  0.8444\n",
      " 1.3066  0.8271  1.7636\n",
      "[torch.FloatTensor of size 5x3]\n",
      "\n"
     ]
    }
   ],
   "source": [
    "y = torch.rand(5, 3)\n",
    "print(x + y)"
   ]
  },
  {
   "cell_type": "markdown",
   "metadata": {},
   "source": [
    "加法: 语法 2\n",
    "\n"
   ]
  },
  {
   "cell_type": "code",
   "execution_count": 19,
   "metadata": {},
   "outputs": [
    {
     "name": "stdout",
     "output_type": "stream",
     "text": [
      "\n",
      " 1.0649  1.1914  1.5522\n",
      " 0.8977  1.1671  0.6357\n",
      " 1.1956  1.3373  0.9209\n",
      " 1.2475  1.2583  0.8444\n",
      " 1.3066  0.8271  1.7636\n",
      "[torch.FloatTensor of size 5x3]\n",
      "\n"
     ]
    }
   ],
   "source": [
    "print(torch.add(x, y))"
   ]
  },
  {
   "cell_type": "markdown",
   "metadata": {},
   "source": [
    "加法: 提供一个输出 tensor 作为参数\n",
    "\n"
   ]
  },
  {
   "cell_type": "code",
   "execution_count": 20,
   "metadata": {},
   "outputs": [
    {
     "name": "stdout",
     "output_type": "stream",
     "text": [
      "\n",
      " 1.0649  1.1914  1.5522\n",
      " 0.8977  1.1671  0.6357\n",
      " 1.1956  1.3373  0.9209\n",
      " 1.2475  1.2583  0.8444\n",
      " 1.3066  0.8271  1.7636\n",
      "[torch.FloatTensor of size 5x3]\n",
      "\n"
     ]
    }
   ],
   "source": [
    "result = torch.Tensor(5, 3)\n",
    "torch.add(x, y, out = result)\n",
    "print(result)"
   ]
  },
  {
   "cell_type": "markdown",
   "metadata": {},
   "source": [
    "加法: in-place（就地操作）\n",
    "\n"
   ]
  },
  {
   "cell_type": "code",
   "execution_count": 21,
   "metadata": {},
   "outputs": [
    {
     "name": "stdout",
     "output_type": "stream",
     "text": [
      "\n",
      " 1.0649  1.1914  1.5522\n",
      " 0.8977  1.1671  0.6357\n",
      " 1.1956  1.3373  0.9209\n",
      " 1.2475  1.2583  0.8444\n",
      " 1.3066  0.8271  1.7636\n",
      "[torch.FloatTensor of size 5x3]\n",
      "\n"
     ]
    }
   ],
   "source": [
    "# adds x to y\n",
    "y.add_(x)\n",
    "print(y)"
   ]
  },
  {
   "cell_type": "markdown",
   "metadata": {},
   "source": [
    "任何改变张量的操作方法都是以后缀 `_` 结尾的. 例如: `x.copy_(y)`, `x.t_()`, 将改变张量 `x`.\n",
    "\n",
    "你可以用类似Numpy的索引来处理所有的张量！\n",
    "\n"
   ]
  },
  {
   "cell_type": "code",
   "execution_count": 22,
   "metadata": {},
   "outputs": [
    {
     "name": "stdout",
     "output_type": "stream",
     "text": [
      "\n",
      " 0.4152\n",
      " 0.7720\n",
      " 0.5131\n",
      " 0.9464\n",
      " 0.0978\n",
      "[torch.FloatTensor of size 5]\n",
      "\n"
     ]
    }
   ],
   "source": [
    "print(x[:, 1])"
   ]
  },
  {
   "cell_type": "markdown",
   "metadata": {},
   "source": [
    "改变大小: 如果你想要去改变tensor的大小, 可以使用 ``torch.view``:\n",
    "\n"
   ]
  },
  {
   "cell_type": "code",
   "execution_count": 23,
   "metadata": {},
   "outputs": [
    {
     "name": "stdout",
     "output_type": "stream",
     "text": [
      "torch.Size([4, 4]) torch.Size([16]) torch.Size([2, 8])\n"
     ]
    }
   ],
   "source": [
    "x = torch.randn(4, 4)\n",
    "y = x.view(16)\n",
    "z = x.view(-1, 8)  # the size -1 is inferred from other dimensions\n",
    "print(x.size(), y.size(), z.size())"
   ]
  },
  {
   "cell_type": "markdown",
   "metadata": {},
   "source": [
    "**稍候阅读:**\n",
    "\n",
    "\n",
    "  100+ Tensor 操作, 包括换位, 索引, 切片,\n",
    "  数学运算, 线性代数, 随机数, 等等,\n",
    "  都在\n",
    "  `这里 <http://pytorch.apachecn.org/cn/docs/0.3.0/torch.html>`_ 有描述.\n",
    "\n",
    "NumPy Bridge\n",
    "------------\n",
    "\n",
    "将一个 Torch Tensor 转换为 NumPy 数组, 反之亦然.\n",
    "\n",
    "Torch Tensor 和 NumPy 数组将会共享它们的实际的内存位置,\n",
    "改变一个另一个也会跟着改变.\n",
    "\n",
    "### 转换一个 Torch Tensor 为 NumPy 数组\n",
    "\n"
   ]
  },
  {
   "cell_type": "code",
   "execution_count": 24,
   "metadata": {},
   "outputs": [
    {
     "name": "stdout",
     "output_type": "stream",
     "text": [
      "\n",
      " 1\n",
      " 1\n",
      " 1\n",
      " 1\n",
      " 1\n",
      "[torch.FloatTensor of size 5]\n",
      "\n"
     ]
    }
   ],
   "source": [
    "a = torch.ones(5)\n",
    "print(a)"
   ]
  },
  {
   "cell_type": "code",
   "execution_count": 25,
   "metadata": {},
   "outputs": [
    {
     "name": "stdout",
     "output_type": "stream",
     "text": [
      "[1. 1. 1. 1. 1.]\n"
     ]
    }
   ],
   "source": [
    "b = a.numpy()\n",
    "print(b)"
   ]
  },
  {
   "cell_type": "markdown",
   "metadata": {},
   "source": [
    "查看 numpy 数组是如何改变的.\n",
    "\n"
   ]
  },
  {
   "cell_type": "code",
   "execution_count": 26,
   "metadata": {},
   "outputs": [
    {
     "name": "stdout",
     "output_type": "stream",
     "text": [
      "\n",
      " 2\n",
      " 2\n",
      " 2\n",
      " 2\n",
      " 2\n",
      "[torch.FloatTensor of size 5]\n",
      "\n",
      "[2. 2. 2. 2. 2.]\n"
     ]
    }
   ],
   "source": [
    "a.add_(1)\n",
    "print(a)\n",
    "print(b)"
   ]
  },
  {
   "cell_type": "markdown",
   "metadata": {},
   "source": [
    "### 转换 NumPy 数组为 Torch Tensor\n",
    "\n",
    "看看改变 np 数组之后 Torch Tensor 是如何自动改变的\n",
    "\n"
   ]
  },
  {
   "cell_type": "code",
   "execution_count": 27,
   "metadata": {},
   "outputs": [
    {
     "name": "stdout",
     "output_type": "stream",
     "text": [
      "[2. 2. 2. 2. 2.]\n",
      "\n",
      " 2\n",
      " 2\n",
      " 2\n",
      " 2\n",
      " 2\n",
      "[torch.DoubleTensor of size 5]\n",
      "\n"
     ]
    }
   ],
   "source": [
    "import numpy as np\n",
    "a = np.ones(5)\n",
    "b = torch.from_numpy(a)\n",
    "np.add(a, 1, out = a)\n",
    "print(a)\n",
    "print(b)"
   ]
  },
  {
   "cell_type": "markdown",
   "metadata": {},
   "source": [
    "除了 CharTensor 之外, CPU 上的所有 Tensor 都支持与Numpy进行互相转换\n",
    "\n",
    "CUDA Tensors\n",
    "------------\n",
    "\n",
    "可以使用 ``.cuda`` 方法将 Tensors 在GPU上运行.\n",
    "\n"
   ]
  },
  {
   "cell_type": "code",
   "execution_count": 29,
   "metadata": {},
   "outputs": [],
   "source": [
    "# 只要在  CUDA 是可用的情况下, 我们可以运行这段代码\n",
    "if torch.cuda.is_available():\n",
    "    x = x.cuda()\n",
    "    y = y.cuda()\n",
    "    x + y"
   ]
  },
  {
   "cell_type": "code",
   "execution_count": 30,
   "metadata": {},
   "outputs": [
    {
     "data": {
      "text/plain": [
       "True"
      ]
     },
     "execution_count": 30,
     "metadata": {},
     "output_type": "execute_result"
    }
   ],
   "source": [
    "torch.cuda.is_available()"
   ]
  },
  {
   "cell_type": "code",
   "execution_count": 31,
   "metadata": {},
   "outputs": [
    {
     "data": {
      "text/plain": [
       "\n",
       "-0.8171  0.5118 -1.2020 -0.4750\n",
       " 0.0591 -1.0427 -0.8091  2.0438\n",
       " 2.1245 -0.7973  0.2031 -0.1620\n",
       "-1.2076  1.2419  0.8921  1.4694\n",
       "[torch.cuda.FloatTensor of size 4x4 (GPU 0)]"
      ]
     },
     "execution_count": 31,
     "metadata": {},
     "output_type": "execute_result"
    }
   ],
   "source": [
    "x"
   ]
  },
  {
   "cell_type": "code",
   "execution_count": 32,
   "metadata": {},
   "outputs": [
    {
     "data": {
      "text/plain": [
       "\n",
       "-0.8171\n",
       " 0.5118\n",
       "-1.2020\n",
       "-0.4750\n",
       " 0.0591\n",
       "-1.0427\n",
       "-0.8091\n",
       " 2.0438\n",
       " 2.1245\n",
       "-0.7973\n",
       " 0.2031\n",
       "-0.1620\n",
       "-1.2076\n",
       " 1.2419\n",
       " 0.8921\n",
       " 1.4694\n",
       "[torch.cuda.FloatTensor of size 16 (GPU 0)]"
      ]
     },
     "execution_count": 32,
     "metadata": {},
     "output_type": "execute_result"
    }
   ],
   "source": [
    "y"
   ]
  }
 ],
 "metadata": {
  "kernelspec": {
   "display_name": "Python 2",
   "language": "python",
   "name": "python2"
  },
  "language_info": {
   "codemirror_mode": {
    "name": "ipython",
    "version": 2
   },
   "file_extension": ".py",
   "mimetype": "text/x-python",
   "name": "python",
   "nbconvert_exporter": "python",
   "pygments_lexer": "ipython2",
   "version": "2.7.12"
  }
 },
 "nbformat": 4,
 "nbformat_minor": 1
}
